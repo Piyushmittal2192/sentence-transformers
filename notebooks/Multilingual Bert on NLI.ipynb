{
 "cells": [
  {
   "cell_type": "code",
   "execution_count": 1,
   "metadata": {},
   "outputs": [
    {
     "name": "stderr",
     "output_type": "stream",
     "text": [
      "/data/miniconda3/envs/pytorch/lib/python3.7/site-packages/tqdm/autonotebook/__init__.py:18: TqdmExperimentalWarning: Using `tqdm.autonotebook.tqdm` in notebook mode. Use `tqdm.tqdm` instead to force console mode (e.g. in jupyter console)\n",
      "  \" (e.g. in jupyter console)\", TqdmExperimentalWarning)\n"
     ]
    }
   ],
   "source": [
    "\"\"\"\n",
    "The system trains BERT on the SNLI + MultiNLI (AllNLI) dataset\n",
    "with softmax loss function. At every 1000 training steps, the model is evaluated on the\n",
    "STS benchmark dataset\n",
    "\"\"\"\n",
    "import math\n",
    "import logging\n",
    "from datetime import datetime\n",
    "\n",
    "from torch.utils.data import DataLoader\n",
    "import torch\n",
    "import torch.nn as nn\n",
    "import joblib\n",
    "import faiss\n",
    "import numpy as np\n",
    "from sentence_transformers import models, losses\n",
    "from sentence_transformers import SentencesDataset, LoggingHandler, SentenceTransformer\n",
    "from sentence_transformers.evaluation import EmbeddingSimilarityEvaluator\n",
    "from sentence_transformers.readers import *\n",
    "from sentence_transformers.util import batch_to_device\n",
    "\n",
    "\n",
    "#### Just some code to print debug information to stdout\n",
    "logging.basicConfig(format='%(asctime)s - %(message)s',\n",
    "                    datefmt='%Y-%m-%d %H:%M:%S',\n",
    "                    level=logging.INFO,\n",
    "                    handlers=[LoggingHandler()])\n",
    "#### /print debug information to stdout"
   ]
  },
  {
   "cell_type": "markdown",
   "metadata": {},
   "source": [
    "## Training"
   ]
  },
  {
   "cell_type": "code",
   "execution_count": 2,
   "metadata": {},
   "outputs": [],
   "source": [
    "# Read the dataset\n",
    "batch_size = 16\n",
    "nli_reader = NLIDataReader('datasets/AllNLI')\n",
    "sts_reader = STSDataReader('datasets/stsbenchmark')\n",
    "train_num_labels = nli_reader.get_num_labels()\n",
    "model_save_path = 'output/training_nli_bert-'+datetime.now().strftime(\"%Y-%m-%d_%H-%M-%S\")"
   ]
  },
  {
   "cell_type": "code",
   "execution_count": 3,
   "metadata": {},
   "outputs": [
    {
     "name": "stdout",
     "output_type": "stream",
     "text": [
      "2019-09-22 21:50:05 - loading configuration file ../models/bert-base-multilingual-cased/config.json\n",
      "2019-09-22 21:50:05 - Model config {\n",
      "  \"attention_probs_dropout_prob\": 0.1,\n",
      "  \"directionality\": \"bidi\",\n",
      "  \"finetuning_task\": null,\n",
      "  \"hidden_act\": \"gelu\",\n",
      "  \"hidden_dropout_prob\": 0.1,\n",
      "  \"hidden_size\": 768,\n",
      "  \"initializer_range\": 0.02,\n",
      "  \"intermediate_size\": 3072,\n",
      "  \"layer_norm_eps\": 1e-12,\n",
      "  \"max_position_embeddings\": 512,\n",
      "  \"num_attention_heads\": 12,\n",
      "  \"num_hidden_layers\": 12,\n",
      "  \"num_labels\": 2,\n",
      "  \"output_attentions\": false,\n",
      "  \"output_hidden_states\": false,\n",
      "  \"pooler_fc_size\": 768,\n",
      "  \"pooler_num_attention_heads\": 12,\n",
      "  \"pooler_num_fc_layers\": 3,\n",
      "  \"pooler_size_per_head\": 128,\n",
      "  \"pooler_type\": \"first_token_transform\",\n",
      "  \"torchscript\": false,\n",
      "  \"type_vocab_size\": 2,\n",
      "  \"vocab_size\": 119547\n",
      "}\n",
      "\n",
      "2019-09-22 21:50:05 - loading weights file ../models/bert-base-multilingual-cased/pytorch_model.bin\n",
      "2019-09-22 21:50:07 - Model name '../models/bert-base-multilingual-cased/' not found in model shortcut name list (bert-base-uncased, bert-large-uncased, bert-base-cased, bert-large-cased, bert-base-multilingual-uncased, bert-base-multilingual-cased, bert-base-chinese, bert-base-german-cased, bert-large-uncased-whole-word-masking, bert-large-cased-whole-word-masking, bert-large-uncased-whole-word-masking-finetuned-squad, bert-large-cased-whole-word-masking-finetuned-squad, bert-base-cased-finetuned-mrpc). Assuming '../models/bert-base-multilingual-cased/' is a path or url to a directory containing tokenizer files.\n",
      "2019-09-22 21:50:07 - Didn't find file ../models/bert-base-multilingual-cased/added_tokens.json. We won't load it.\n",
      "2019-09-22 21:50:07 - Didn't find file ../models/bert-base-multilingual-cased/special_tokens_map.json. We won't load it.\n",
      "2019-09-22 21:50:07 - loading file ../models/bert-base-multilingual-cased/vocab.txt\n",
      "2019-09-22 21:50:07 - loading file None\n",
      "2019-09-22 21:50:07 - loading file None\n"
     ]
    }
   ],
   "source": [
    "# Use BERT for mapping tokens to embeddings\n",
    "# Using manually downloaded model data:\n",
    "word_embedding_model = models.BERT('../models/bert-base-multilingual-cased/')\n",
    "# Or you can let the library handle the downloading and caching for you:\n",
    "# word_embedding_model = models.BERT('bert-base-multilingual-cased')"
   ]
  },
  {
   "cell_type": "code",
   "execution_count": 4,
   "metadata": {},
   "outputs": [],
   "source": [
    "def children(m):\n",
    "    return m if isinstance(m, (list, tuple)) else list(m.children())\n",
    "\n",
    "\n",
    "def set_trainable_attr(m, b):\n",
    "    m.trainable = b\n",
    "    for p in m.parameters():\n",
    "        p.requires_grad = b\n",
    "\n",
    "\n",
    "def apply_leaf(m, f):\n",
    "    c = children(m)\n",
    "    if isinstance(m, nn.Module):\n",
    "        f(m)\n",
    "    if len(c) > 0:\n",
    "        for l in c:\n",
    "            apply_leaf(l, f)\n",
    "\n",
    "\n",
    "def set_trainable(l, b):\n",
    "    apply_leaf(l, lambda m: set_trainable_attr(m, b))"
   ]
  },
  {
   "cell_type": "code",
   "execution_count": 5,
   "metadata": {},
   "outputs": [
    {
     "name": "stdout",
     "output_type": "stream",
     "text": [
      "False\n",
      "True\n"
     ]
    }
   ],
   "source": [
    "set_trainable(word_embedding_model.bert.embeddings.word_embeddings, False)\n",
    "print(word_embedding_model.bert.embeddings.word_embeddings.weight.requires_grad)\n",
    "print(word_embedding_model.bert.embeddings.position_embeddings.weight.requires_grad)"
   ]
  },
  {
   "cell_type": "code",
   "execution_count": 6,
   "metadata": {},
   "outputs": [
    {
     "name": "stdout",
     "output_type": "stream",
     "text": [
      "2019-09-22 21:50:07 - Use pytorch device: cuda\n"
     ]
    }
   ],
   "source": [
    "# Apply mean pooling to get one fixed sized sentence vector\n",
    "pooling_model = models.Pooling(word_embedding_model.get_word_embedding_dimension(),\n",
    "                               pooling_mode_mean_tokens=True,\n",
    "                               pooling_mode_cls_token=False,\n",
    "                               pooling_mode_max_tokens=False)\n",
    "\n",
    "model = SentenceTransformer(modules=[word_embedding_model, pooling_model])"
   ]
  },
  {
   "cell_type": "code",
   "execution_count": 7,
   "metadata": {},
   "outputs": [],
   "source": [
    "# # Convert the dataset to a DataLoader ready for training\n",
    "# logging.info(\"Read AllNLI train dataset\")\n",
    "# train_data = SentencesDataset(nli_reader.get_examples('train.gz'), model=model)\n",
    "# train_dataloader = DataLoader(train_data, shuffle=True, batch_size=batch_size)\n",
    "# train_loss = losses.SoftmaxLoss(\n",
    "#     model=model, sentence_embedding_dimension=model.get_sentence_embedding_dimension(), num_labels=train_num_labels)\n",
    "\n",
    "# logging.info(\"Read STSbenchmark dev dataset\")\n",
    "# dev_data = SentencesDataset(examples=sts_reader.get_examples('sts-dev.csv'), model=model)\n",
    "# dev_dataloader = DataLoader(dev_data, shuffle=False, batch_size=batch_size)\n",
    "# evaluator = EmbeddingSimilarityEvaluator(dev_dataloader)"
   ]
  },
  {
   "cell_type": "code",
   "execution_count": 8,
   "metadata": {},
   "outputs": [],
   "source": [
    "# joblib.dump(train_data, \"allnli_train_dataset.jl\")\n",
    "# joblib.dump(dev_data, \"sts_dev_dataset.jl\")"
   ]
  },
  {
   "cell_type": "code",
   "execution_count": 9,
   "metadata": {},
   "outputs": [
    {
     "name": "stdout",
     "output_type": "stream",
     "text": [
      "2019-09-22 21:50:09 - Read AllNLI train dataset\n",
      "2019-09-22 21:50:30 - Softmax loss: #Vectors concatenated: 3\n",
      "2019-09-22 21:50:30 - Read STSbenchmark dev dataset\n"
     ]
    }
   ],
   "source": [
    "# Convert the dataset to a DataLoader ready for training\n",
    "logging.info(\"Read AllNLI train dataset\")\n",
    "train_data = joblib.load(\"allnli_train_dataset.jl\")\n",
    "train_dataloader = DataLoader(train_data, shuffle=True, batch_size=batch_size)\n",
    "train_loss = losses.SoftmaxLoss(\n",
    "    model=model, sentence_embedding_dimension=model.get_sentence_embedding_dimension(), num_labels=train_num_labels)\n",
    "\n",
    "logging.info(\"Read STSbenchmark dev dataset\")\n",
    "dev_data = joblib.load(\"sts_dev_dataset.jl\")\n",
    "dev_dataloader = DataLoader(dev_data, shuffle=False, batch_size=batch_size)\n",
    "evaluator = EmbeddingSimilarityEvaluator(dev_dataloader)"
   ]
  },
  {
   "cell_type": "code",
   "execution_count": 10,
   "metadata": {
    "scrolled": true
   },
   "outputs": [
    {
     "name": "stdout",
     "output_type": "stream",
     "text": [
      "2019-09-22 21:51:44 - Warmup-steps: 5888\n"
     ]
    },
    {
     "data": {
      "application/vnd.jupyter.widget-view+json": {
       "model_id": "947ad56f92af451e8a54b72cda019ab7",
       "version_major": 2,
       "version_minor": 0
      },
      "text/plain": [
       "HBox(children=(IntProgress(value=0, description='Epoch', max=1, style=ProgressStyle(description_width='initial…"
      ]
     },
     "metadata": {},
     "output_type": "display_data"
    },
    {
     "data": {
      "application/vnd.jupyter.widget-view+json": {
       "model_id": "e830377db82148c3a6184c08981c1456",
       "version_major": 2,
       "version_minor": 0
      },
      "text/plain": [
       "HBox(children=(IntProgress(value=0, description='Iteration', max=58880, style=ProgressStyle(description_width=…"
      ]
     },
     "metadata": {},
     "output_type": "display_data"
    },
    {
     "name": "stderr",
     "output_type": "stream",
     "text": [
      "Convert Evaluating:   3%|▎         | 3/94 [00:00<00:03, 26.32it/s]"
     ]
    },
    {
     "name": "stdout",
     "output_type": "stream",
     "text": [
      "2019-09-22 21:56:24 - Evaluation the model on  dataset in epoch 0 after 1000 steps:\n"
     ]
    },
    {
     "name": "stderr",
     "output_type": "stream",
     "text": [
      "Convert Evaluating: 100%|██████████| 94/94 [00:05<00:00, 17.75it/s]\n"
     ]
    },
    {
     "name": "stdout",
     "output_type": "stream",
     "text": [
      "2019-09-22 21:56:30 - Cosine-Similarity :\tPearson: 0.5370\tSpearman: 0.5462\n",
      "2019-09-22 21:56:30 - Manhattan-Distance:\tPearson: 0.5615\tSpearman: 0.5749\n",
      "2019-09-22 21:56:30 - Euclidean-Distance:\tPearson: 0.5604\tSpearman: 0.5736\n",
      "2019-09-22 21:56:30 - Dot-Product-Similarity:\tPearson: 0.2355\tSpearman: 0.2451\n",
      "2019-09-22 21:56:30 - Save model to output/training_nli_bert-2019-09-22_21-50-05\n"
     ]
    },
    {
     "name": "stderr",
     "output_type": "stream",
     "text": [
      "Convert Evaluating:   3%|▎         | 3/94 [00:00<00:03, 26.39it/s]"
     ]
    },
    {
     "name": "stdout",
     "output_type": "stream",
     "text": [
      "2019-09-22 22:01:13 - Evaluation the model on  dataset in epoch 0 after 2000 steps:\n"
     ]
    },
    {
     "name": "stderr",
     "output_type": "stream",
     "text": [
      "Convert Evaluating: 100%|██████████| 94/94 [00:05<00:00, 17.76it/s]\n"
     ]
    },
    {
     "name": "stdout",
     "output_type": "stream",
     "text": [
      "2019-09-22 22:01:18 - Cosine-Similarity :\tPearson: 0.5260\tSpearman: 0.5738\n",
      "2019-09-22 22:01:18 - Manhattan-Distance:\tPearson: 0.5595\tSpearman: 0.5798\n",
      "2019-09-22 22:01:18 - Euclidean-Distance:\tPearson: 0.5559\tSpearman: 0.5785\n",
      "2019-09-22 22:01:18 - Dot-Product-Similarity:\tPearson: 0.3708\tSpearman: 0.3659\n",
      "2019-09-22 22:01:18 - Save model to output/training_nli_bert-2019-09-22_21-50-05\n"
     ]
    },
    {
     "name": "stderr",
     "output_type": "stream",
     "text": [
      "Convert Evaluating:   3%|▎         | 3/94 [00:00<00:03, 28.02it/s]"
     ]
    },
    {
     "name": "stdout",
     "output_type": "stream",
     "text": [
      "2019-09-22 22:06:00 - Evaluation the model on  dataset in epoch 0 after 3000 steps:\n"
     ]
    },
    {
     "name": "stderr",
     "output_type": "stream",
     "text": [
      "Convert Evaluating: 100%|██████████| 94/94 [00:05<00:00, 17.78it/s]\n"
     ]
    },
    {
     "name": "stdout",
     "output_type": "stream",
     "text": [
      "2019-09-22 22:06:05 - Cosine-Similarity :\tPearson: 0.4663\tSpearman: 0.5548\n",
      "2019-09-22 22:06:05 - Manhattan-Distance:\tPearson: 0.5266\tSpearman: 0.5633\n",
      "2019-09-22 22:06:05 - Euclidean-Distance:\tPearson: 0.5203\tSpearman: 0.5614\n",
      "2019-09-22 22:06:05 - Dot-Product-Similarity:\tPearson: 0.3776\tSpearman: 0.3856\n"
     ]
    },
    {
     "name": "stderr",
     "output_type": "stream",
     "text": [
      "Convert Evaluating:   3%|▎         | 3/94 [00:00<00:03, 27.54it/s]"
     ]
    },
    {
     "name": "stdout",
     "output_type": "stream",
     "text": [
      "2019-09-22 22:10:52 - Evaluation the model on  dataset in epoch 0 after 4000 steps:\n"
     ]
    },
    {
     "name": "stderr",
     "output_type": "stream",
     "text": [
      "Convert Evaluating: 100%|██████████| 94/94 [00:05<00:00, 17.37it/s]\n"
     ]
    },
    {
     "name": "stdout",
     "output_type": "stream",
     "text": [
      "2019-09-22 22:10:57 - Cosine-Similarity :\tPearson: 0.5182\tSpearman: 0.5717\n",
      "2019-09-22 22:10:57 - Manhattan-Distance:\tPearson: 0.5653\tSpearman: 0.5842\n",
      "2019-09-22 22:10:57 - Euclidean-Distance:\tPearson: 0.5627\tSpearman: 0.5835\n",
      "2019-09-22 22:10:57 - Dot-Product-Similarity:\tPearson: 0.4042\tSpearman: 0.4053\n",
      "2019-09-22 22:10:57 - Save model to output/training_nli_bert-2019-09-22_21-50-05\n"
     ]
    },
    {
     "name": "stderr",
     "output_type": "stream",
     "text": [
      "Convert Evaluating:   3%|▎         | 3/94 [00:00<00:03, 27.23it/s]"
     ]
    },
    {
     "name": "stdout",
     "output_type": "stream",
     "text": [
      "2019-09-22 22:15:51 - Evaluation the model on  dataset in epoch 0 after 5000 steps:\n"
     ]
    },
    {
     "name": "stderr",
     "output_type": "stream",
     "text": [
      "Convert Evaluating: 100%|██████████| 94/94 [00:05<00:00, 17.58it/s]\n"
     ]
    },
    {
     "name": "stdout",
     "output_type": "stream",
     "text": [
      "2019-09-22 22:15:57 - Cosine-Similarity :\tPearson: 0.5496\tSpearman: 0.5882\n",
      "2019-09-22 22:15:57 - Manhattan-Distance:\tPearson: 0.5766\tSpearman: 0.5877\n",
      "2019-09-22 22:15:57 - Euclidean-Distance:\tPearson: 0.5728\tSpearman: 0.5865\n",
      "2019-09-22 22:15:57 - Dot-Product-Similarity:\tPearson: 0.4743\tSpearman: 0.4912\n",
      "2019-09-22 22:15:57 - Save model to output/training_nli_bert-2019-09-22_21-50-05\n"
     ]
    },
    {
     "name": "stderr",
     "output_type": "stream",
     "text": [
      "Convert Evaluating:   3%|▎         | 3/94 [00:00<00:03, 27.83it/s]"
     ]
    },
    {
     "name": "stdout",
     "output_type": "stream",
     "text": [
      "2019-09-22 22:20:44 - Evaluation the model on  dataset in epoch 0 after 6000 steps:\n"
     ]
    },
    {
     "name": "stderr",
     "output_type": "stream",
     "text": [
      "Convert Evaluating: 100%|██████████| 94/94 [00:05<00:00, 17.78it/s]\n"
     ]
    },
    {
     "name": "stdout",
     "output_type": "stream",
     "text": [
      "2019-09-22 22:20:50 - Cosine-Similarity :\tPearson: 0.5798\tSpearman: 0.6150\n",
      "2019-09-22 22:20:50 - Manhattan-Distance:\tPearson: 0.6147\tSpearman: 0.6245\n",
      "2019-09-22 22:20:50 - Euclidean-Distance:\tPearson: 0.6117\tSpearman: 0.6232\n",
      "2019-09-22 22:20:50 - Dot-Product-Similarity:\tPearson: 0.4848\tSpearman: 0.4872\n",
      "2019-09-22 22:20:50 - Save model to output/training_nli_bert-2019-09-22_21-50-05\n"
     ]
    },
    {
     "name": "stderr",
     "output_type": "stream",
     "text": [
      "Convert Evaluating:   3%|▎         | 3/94 [00:00<00:03, 27.61it/s]"
     ]
    },
    {
     "name": "stdout",
     "output_type": "stream",
     "text": [
      "2019-09-22 22:25:32 - Evaluation the model on  dataset in epoch 0 after 7000 steps:\n"
     ]
    },
    {
     "name": "stderr",
     "output_type": "stream",
     "text": [
      "Convert Evaluating: 100%|██████████| 94/94 [00:05<00:00, 17.75it/s]\n"
     ]
    },
    {
     "name": "stdout",
     "output_type": "stream",
     "text": [
      "2019-09-22 22:25:37 - Cosine-Similarity :\tPearson: 0.5972\tSpearman: 0.6276\n",
      "2019-09-22 22:25:37 - Manhattan-Distance:\tPearson: 0.6268\tSpearman: 0.6302\n",
      "2019-09-22 22:25:37 - Euclidean-Distance:\tPearson: 0.6257\tSpearman: 0.6296\n",
      "2019-09-22 22:25:37 - Dot-Product-Similarity:\tPearson: 0.5632\tSpearman: 0.5640\n",
      "2019-09-22 22:25:37 - Save model to output/training_nli_bert-2019-09-22_21-50-05\n"
     ]
    },
    {
     "name": "stderr",
     "output_type": "stream",
     "text": [
      "Convert Evaluating:   3%|▎         | 3/94 [00:00<00:03, 27.81it/s]"
     ]
    },
    {
     "name": "stdout",
     "output_type": "stream",
     "text": [
      "2019-09-22 22:30:21 - Evaluation the model on  dataset in epoch 0 after 8000 steps:\n"
     ]
    },
    {
     "name": "stderr",
     "output_type": "stream",
     "text": [
      "Convert Evaluating: 100%|██████████| 94/94 [00:05<00:00, 17.79it/s]\n"
     ]
    },
    {
     "name": "stdout",
     "output_type": "stream",
     "text": [
      "2019-09-22 22:30:26 - Cosine-Similarity :\tPearson: 0.6190\tSpearman: 0.6466\n",
      "2019-09-22 22:30:26 - Manhattan-Distance:\tPearson: 0.6389\tSpearman: 0.6455\n",
      "2019-09-22 22:30:26 - Euclidean-Distance:\tPearson: 0.6352\tSpearman: 0.6438\n",
      "2019-09-22 22:30:26 - Dot-Product-Similarity:\tPearson: 0.5180\tSpearman: 0.5192\n",
      "2019-09-22 22:30:26 - Save model to output/training_nli_bert-2019-09-22_21-50-05\n"
     ]
    },
    {
     "name": "stderr",
     "output_type": "stream",
     "text": [
      "Convert Evaluating:   3%|▎         | 3/94 [00:00<00:03, 28.08it/s]"
     ]
    },
    {
     "name": "stdout",
     "output_type": "stream",
     "text": [
      "2019-09-22 22:35:08 - Evaluation the model on  dataset in epoch 0 after 9000 steps:\n"
     ]
    },
    {
     "name": "stderr",
     "output_type": "stream",
     "text": [
      "Convert Evaluating: 100%|██████████| 94/94 [00:05<00:00, 17.79it/s]\n"
     ]
    },
    {
     "name": "stdout",
     "output_type": "stream",
     "text": [
      "2019-09-22 22:35:14 - Cosine-Similarity :\tPearson: 0.6041\tSpearman: 0.6379\n",
      "2019-09-22 22:35:14 - Manhattan-Distance:\tPearson: 0.6357\tSpearman: 0.6399\n",
      "2019-09-22 22:35:14 - Euclidean-Distance:\tPearson: 0.6340\tSpearman: 0.6389\n",
      "2019-09-22 22:35:14 - Dot-Product-Similarity:\tPearson: 0.5534\tSpearman: 0.5527\n"
     ]
    },
    {
     "name": "stderr",
     "output_type": "stream",
     "text": [
      "Convert Evaluating:   3%|▎         | 3/94 [00:00<00:03, 27.80it/s]"
     ]
    },
    {
     "name": "stdout",
     "output_type": "stream",
     "text": [
      "2019-09-22 22:39:54 - Evaluation the model on  dataset in epoch 0 after 10000 steps:\n"
     ]
    },
    {
     "name": "stderr",
     "output_type": "stream",
     "text": [
      "Convert Evaluating: 100%|██████████| 94/94 [00:05<00:00, 17.79it/s]\n"
     ]
    },
    {
     "name": "stdout",
     "output_type": "stream",
     "text": [
      "2019-09-22 22:40:00 - Cosine-Similarity :\tPearson: 0.6271\tSpearman: 0.6507\n",
      "2019-09-22 22:40:00 - Manhattan-Distance:\tPearson: 0.6458\tSpearman: 0.6494\n",
      "2019-09-22 22:40:00 - Euclidean-Distance:\tPearson: 0.6458\tSpearman: 0.6492\n",
      "2019-09-22 22:40:00 - Dot-Product-Similarity:\tPearson: 0.5580\tSpearman: 0.5548\n",
      "2019-09-22 22:40:00 - Save model to output/training_nli_bert-2019-09-22_21-50-05\n"
     ]
    },
    {
     "name": "stderr",
     "output_type": "stream",
     "text": [
      "Convert Evaluating:   3%|▎         | 3/94 [00:00<00:03, 27.98it/s]"
     ]
    },
    {
     "name": "stdout",
     "output_type": "stream",
     "text": [
      "2019-09-22 22:44:43 - Evaluation the model on  dataset in epoch 0 after 11000 steps:\n"
     ]
    },
    {
     "name": "stderr",
     "output_type": "stream",
     "text": [
      "Convert Evaluating: 100%|██████████| 94/94 [00:05<00:00, 17.82it/s]\n"
     ]
    },
    {
     "name": "stdout",
     "output_type": "stream",
     "text": [
      "2019-09-22 22:44:48 - Cosine-Similarity :\tPearson: 0.6429\tSpearman: 0.6576\n",
      "2019-09-22 22:44:48 - Manhattan-Distance:\tPearson: 0.6629\tSpearman: 0.6596\n",
      "2019-09-22 22:44:48 - Euclidean-Distance:\tPearson: 0.6619\tSpearman: 0.6591\n",
      "2019-09-22 22:44:48 - Dot-Product-Similarity:\tPearson: 0.5923\tSpearman: 0.5854\n",
      "2019-09-22 22:44:48 - Save model to output/training_nli_bert-2019-09-22_21-50-05\n"
     ]
    },
    {
     "name": "stderr",
     "output_type": "stream",
     "text": [
      "Convert Evaluating:   3%|▎         | 3/94 [00:00<00:03, 27.91it/s]"
     ]
    },
    {
     "name": "stdout",
     "output_type": "stream",
     "text": [
      "2019-09-22 22:49:30 - Evaluation the model on  dataset in epoch 0 after 12000 steps:\n"
     ]
    },
    {
     "name": "stderr",
     "output_type": "stream",
     "text": [
      "Convert Evaluating: 100%|██████████| 94/94 [00:05<00:00, 17.82it/s]\n"
     ]
    },
    {
     "name": "stdout",
     "output_type": "stream",
     "text": [
      "2019-09-22 22:49:36 - Cosine-Similarity :\tPearson: 0.6285\tSpearman: 0.6557\n",
      "2019-09-22 22:49:36 - Manhattan-Distance:\tPearson: 0.6595\tSpearman: 0.6595\n",
      "2019-09-22 22:49:36 - Euclidean-Distance:\tPearson: 0.6587\tSpearman: 0.6595\n",
      "2019-09-22 22:49:36 - Dot-Product-Similarity:\tPearson: 0.5837\tSpearman: 0.5840\n"
     ]
    },
    {
     "name": "stderr",
     "output_type": "stream",
     "text": [
      "Convert Evaluating:   3%|▎         | 3/94 [00:00<00:03, 27.87it/s]"
     ]
    },
    {
     "name": "stdout",
     "output_type": "stream",
     "text": [
      "2019-09-22 22:54:17 - Evaluation the model on  dataset in epoch 0 after 13000 steps:\n"
     ]
    },
    {
     "name": "stderr",
     "output_type": "stream",
     "text": [
      "Convert Evaluating: 100%|██████████| 94/94 [00:05<00:00, 17.82it/s]\n"
     ]
    },
    {
     "name": "stdout",
     "output_type": "stream",
     "text": [
      "2019-09-22 22:54:22 - Cosine-Similarity :\tPearson: 0.6414\tSpearman: 0.6632\n",
      "2019-09-22 22:54:22 - Manhattan-Distance:\tPearson: 0.6668\tSpearman: 0.6664\n",
      "2019-09-22 22:54:22 - Euclidean-Distance:\tPearson: 0.6650\tSpearman: 0.6650\n",
      "2019-09-22 22:54:22 - Dot-Product-Similarity:\tPearson: 0.6073\tSpearman: 0.6063\n",
      "2019-09-22 22:54:22 - Save model to output/training_nli_bert-2019-09-22_21-50-05\n"
     ]
    },
    {
     "name": "stderr",
     "output_type": "stream",
     "text": [
      "Convert Evaluating:   3%|▎         | 3/94 [00:00<00:03, 28.13it/s]"
     ]
    },
    {
     "name": "stdout",
     "output_type": "stream",
     "text": [
      "2019-09-22 22:59:06 - Evaluation the model on  dataset in epoch 0 after 14000 steps:\n"
     ]
    },
    {
     "name": "stderr",
     "output_type": "stream",
     "text": [
      "Convert Evaluating: 100%|██████████| 94/94 [00:05<00:00, 17.82it/s]\n"
     ]
    },
    {
     "name": "stdout",
     "output_type": "stream",
     "text": [
      "2019-09-22 22:59:11 - Cosine-Similarity :\tPearson: 0.6634\tSpearman: 0.6855\n",
      "2019-09-22 22:59:11 - Manhattan-Distance:\tPearson: 0.6865\tSpearman: 0.6866\n",
      "2019-09-22 22:59:11 - Euclidean-Distance:\tPearson: 0.6865\tSpearman: 0.6864\n",
      "2019-09-22 22:59:11 - Dot-Product-Similarity:\tPearson: 0.6358\tSpearman: 0.6362\n",
      "2019-09-22 22:59:11 - Save model to output/training_nli_bert-2019-09-22_21-50-05\n"
     ]
    },
    {
     "name": "stderr",
     "output_type": "stream",
     "text": [
      "Convert Evaluating:   3%|▎         | 3/94 [00:00<00:03, 27.87it/s]"
     ]
    },
    {
     "name": "stdout",
     "output_type": "stream",
     "text": [
      "2019-09-22 23:03:55 - Evaluation the model on  dataset in epoch 0 after 15000 steps:\n"
     ]
    },
    {
     "name": "stderr",
     "output_type": "stream",
     "text": [
      "Convert Evaluating: 100%|██████████| 94/94 [00:05<00:00, 17.78it/s]\n"
     ]
    },
    {
     "name": "stdout",
     "output_type": "stream",
     "text": [
      "2019-09-22 23:04:00 - Cosine-Similarity :\tPearson: 0.6600\tSpearman: 0.6756\n",
      "2019-09-22 23:04:00 - Manhattan-Distance:\tPearson: 0.6804\tSpearman: 0.6779\n",
      "2019-09-22 23:04:00 - Euclidean-Distance:\tPearson: 0.6801\tSpearman: 0.6776\n",
      "2019-09-22 23:04:00 - Dot-Product-Similarity:\tPearson: 0.6308\tSpearman: 0.6251\n"
     ]
    },
    {
     "name": "stderr",
     "output_type": "stream",
     "text": [
      "Convert Evaluating:   3%|▎         | 3/94 [00:00<00:03, 28.02it/s]"
     ]
    },
    {
     "name": "stdout",
     "output_type": "stream",
     "text": [
      "2019-09-22 23:08:41 - Evaluation the model on  dataset in epoch 0 after 16000 steps:\n"
     ]
    },
    {
     "name": "stderr",
     "output_type": "stream",
     "text": [
      "Convert Evaluating: 100%|██████████| 94/94 [00:05<00:00, 17.85it/s]\n"
     ]
    },
    {
     "name": "stdout",
     "output_type": "stream",
     "text": [
      "2019-09-22 23:08:47 - Cosine-Similarity :\tPearson: 0.6847\tSpearman: 0.7128\n",
      "2019-09-22 23:08:47 - Manhattan-Distance:\tPearson: 0.7150\tSpearman: 0.7140\n",
      "2019-09-22 23:08:47 - Euclidean-Distance:\tPearson: 0.7127\tSpearman: 0.7130\n",
      "2019-09-22 23:08:47 - Dot-Product-Similarity:\tPearson: 0.6570\tSpearman: 0.6613\n",
      "2019-09-22 23:08:47 - Save model to output/training_nli_bert-2019-09-22_21-50-05\n"
     ]
    },
    {
     "name": "stderr",
     "output_type": "stream",
     "text": [
      "Convert Evaluating:   3%|▎         | 3/94 [00:00<00:03, 28.14it/s]"
     ]
    },
    {
     "name": "stdout",
     "output_type": "stream",
     "text": [
      "2019-09-22 23:13:29 - Evaluation the model on  dataset in epoch 0 after 17000 steps:\n"
     ]
    },
    {
     "name": "stderr",
     "output_type": "stream",
     "text": [
      "Convert Evaluating: 100%|██████████| 94/94 [00:05<00:00, 17.84it/s]\n"
     ]
    },
    {
     "name": "stdout",
     "output_type": "stream",
     "text": [
      "2019-09-22 23:13:35 - Cosine-Similarity :\tPearson: 0.6780\tSpearman: 0.7024\n",
      "2019-09-22 23:13:35 - Manhattan-Distance:\tPearson: 0.7033\tSpearman: 0.7039\n",
      "2019-09-22 23:13:35 - Euclidean-Distance:\tPearson: 0.7032\tSpearman: 0.7039\n",
      "2019-09-22 23:13:35 - Dot-Product-Similarity:\tPearson: 0.6479\tSpearman: 0.6527\n"
     ]
    },
    {
     "name": "stderr",
     "output_type": "stream",
     "text": [
      "Convert Evaluating:   3%|▎         | 3/94 [00:00<00:03, 28.10it/s]"
     ]
    },
    {
     "name": "stdout",
     "output_type": "stream",
     "text": [
      "2019-09-22 23:18:16 - Evaluation the model on  dataset in epoch 0 after 18000 steps:\n"
     ]
    },
    {
     "name": "stderr",
     "output_type": "stream",
     "text": [
      "Convert Evaluating: 100%|██████████| 94/94 [00:05<00:00, 17.83it/s]\n"
     ]
    },
    {
     "name": "stdout",
     "output_type": "stream",
     "text": [
      "2019-09-22 23:18:21 - Cosine-Similarity :\tPearson: 0.6791\tSpearman: 0.7082\n",
      "2019-09-22 23:18:21 - Manhattan-Distance:\tPearson: 0.7087\tSpearman: 0.7084\n",
      "2019-09-22 23:18:21 - Euclidean-Distance:\tPearson: 0.7071\tSpearman: 0.7071\n",
      "2019-09-22 23:18:21 - Dot-Product-Similarity:\tPearson: 0.6612\tSpearman: 0.6685\n"
     ]
    },
    {
     "name": "stderr",
     "output_type": "stream",
     "text": [
      "Convert Evaluating:   3%|▎         | 3/94 [00:00<00:03, 28.02it/s]"
     ]
    },
    {
     "name": "stdout",
     "output_type": "stream",
     "text": [
      "2019-09-22 23:23:04 - Evaluation the model on  dataset in epoch 0 after 19000 steps:\n"
     ]
    },
    {
     "name": "stderr",
     "output_type": "stream",
     "text": [
      "Convert Evaluating: 100%|██████████| 94/94 [00:05<00:00, 17.84it/s]\n"
     ]
    },
    {
     "name": "stdout",
     "output_type": "stream",
     "text": [
      "2019-09-22 23:23:09 - Cosine-Similarity :\tPearson: 0.7070\tSpearman: 0.7320\n",
      "2019-09-22 23:23:09 - Manhattan-Distance:\tPearson: 0.7342\tSpearman: 0.7334\n",
      "2019-09-22 23:23:09 - Euclidean-Distance:\tPearson: 0.7332\tSpearman: 0.7326\n",
      "2019-09-22 23:23:09 - Dot-Product-Similarity:\tPearson: 0.6896\tSpearman: 0.6970\n",
      "2019-09-22 23:23:09 - Save model to output/training_nli_bert-2019-09-22_21-50-05\n"
     ]
    },
    {
     "name": "stderr",
     "output_type": "stream",
     "text": [
      "Convert Evaluating:   3%|▎         | 3/94 [00:00<00:03, 27.17it/s]"
     ]
    },
    {
     "name": "stdout",
     "output_type": "stream",
     "text": [
      "2019-09-22 23:27:54 - Evaluation the model on  dataset in epoch 0 after 20000 steps:\n"
     ]
    },
    {
     "name": "stderr",
     "output_type": "stream",
     "text": [
      "Convert Evaluating: 100%|██████████| 94/94 [00:05<00:00, 17.84it/s]\n"
     ]
    },
    {
     "name": "stdout",
     "output_type": "stream",
     "text": [
      "2019-09-22 23:27:59 - Cosine-Similarity :\tPearson: 0.7017\tSpearman: 0.7234\n",
      "2019-09-22 23:27:59 - Manhattan-Distance:\tPearson: 0.7271\tSpearman: 0.7257\n",
      "2019-09-22 23:27:59 - Euclidean-Distance:\tPearson: 0.7269\tSpearman: 0.7256\n",
      "2019-09-22 23:27:59 - Dot-Product-Similarity:\tPearson: 0.6870\tSpearman: 0.6932\n"
     ]
    },
    {
     "name": "stderr",
     "output_type": "stream",
     "text": [
      "Convert Evaluating:   3%|▎         | 3/94 [00:00<00:03, 28.14it/s]"
     ]
    },
    {
     "name": "stdout",
     "output_type": "stream",
     "text": [
      "2019-09-22 23:32:42 - Evaluation the model on  dataset in epoch 0 after 21000 steps:\n"
     ]
    },
    {
     "name": "stderr",
     "output_type": "stream",
     "text": [
      "Convert Evaluating: 100%|██████████| 94/94 [00:05<00:00, 17.83it/s]\n"
     ]
    },
    {
     "name": "stdout",
     "output_type": "stream",
     "text": [
      "2019-09-22 23:32:47 - Cosine-Similarity :\tPearson: 0.7121\tSpearman: 0.7325\n",
      "2019-09-22 23:32:47 - Manhattan-Distance:\tPearson: 0.7366\tSpearman: 0.7352\n",
      "2019-09-22 23:32:47 - Euclidean-Distance:\tPearson: 0.7357\tSpearman: 0.7346\n",
      "2019-09-22 23:32:47 - Dot-Product-Similarity:\tPearson: 0.6985\tSpearman: 0.7058\n",
      "2019-09-22 23:32:47 - Save model to output/training_nli_bert-2019-09-22_21-50-05\n"
     ]
    },
    {
     "name": "stderr",
     "output_type": "stream",
     "text": [
      "Convert Evaluating:   3%|▎         | 3/94 [00:00<00:03, 28.09it/s]"
     ]
    },
    {
     "name": "stdout",
     "output_type": "stream",
     "text": [
      "2019-09-22 23:37:28 - Evaluation the model on  dataset in epoch 0 after 22000 steps:\n"
     ]
    },
    {
     "name": "stderr",
     "output_type": "stream",
     "text": [
      "Convert Evaluating: 100%|██████████| 94/94 [00:05<00:00, 17.85it/s]\n"
     ]
    },
    {
     "name": "stdout",
     "output_type": "stream",
     "text": [
      "2019-09-22 23:37:34 - Cosine-Similarity :\tPearson: 0.7261\tSpearman: 0.7463\n",
      "2019-09-22 23:37:34 - Manhattan-Distance:\tPearson: 0.7472\tSpearman: 0.7466\n",
      "2019-09-22 23:37:34 - Euclidean-Distance:\tPearson: 0.7460\tSpearman: 0.7458\n",
      "2019-09-22 23:37:34 - Dot-Product-Similarity:\tPearson: 0.7170\tSpearman: 0.7238\n",
      "2019-09-22 23:37:34 - Save model to output/training_nli_bert-2019-09-22_21-50-05\n"
     ]
    },
    {
     "name": "stderr",
     "output_type": "stream",
     "text": [
      "Convert Evaluating:   3%|▎         | 3/94 [00:00<00:03, 27.81it/s]"
     ]
    },
    {
     "name": "stdout",
     "output_type": "stream",
     "text": [
      "2019-09-22 23:42:15 - Evaluation the model on  dataset in epoch 0 after 23000 steps:\n"
     ]
    },
    {
     "name": "stderr",
     "output_type": "stream",
     "text": [
      "Convert Evaluating: 100%|██████████| 94/94 [00:05<00:00, 17.81it/s]\n"
     ]
    },
    {
     "name": "stdout",
     "output_type": "stream",
     "text": [
      "2019-09-22 23:42:20 - Cosine-Similarity :\tPearson: 0.7195\tSpearman: 0.7417\n",
      "2019-09-22 23:42:20 - Manhattan-Distance:\tPearson: 0.7442\tSpearman: 0.7432\n",
      "2019-09-22 23:42:20 - Euclidean-Distance:\tPearson: 0.7414\tSpearman: 0.7407\n",
      "2019-09-22 23:42:20 - Dot-Product-Similarity:\tPearson: 0.7115\tSpearman: 0.7211\n"
     ]
    },
    {
     "name": "stderr",
     "output_type": "stream",
     "text": [
      "Convert Evaluating:   3%|▎         | 3/94 [00:00<00:03, 27.60it/s]"
     ]
    },
    {
     "name": "stdout",
     "output_type": "stream",
     "text": [
      "2019-09-22 23:47:03 - Evaluation the model on  dataset in epoch 0 after 24000 steps:\n"
     ]
    },
    {
     "name": "stderr",
     "output_type": "stream",
     "text": [
      "Convert Evaluating: 100%|██████████| 94/94 [00:05<00:00, 17.82it/s]\n"
     ]
    },
    {
     "name": "stdout",
     "output_type": "stream",
     "text": [
      "2019-09-22 23:47:09 - Cosine-Similarity :\tPearson: 0.7128\tSpearman: 0.7383\n",
      "2019-09-22 23:47:09 - Manhattan-Distance:\tPearson: 0.7442\tSpearman: 0.7426\n",
      "2019-09-22 23:47:09 - Euclidean-Distance:\tPearson: 0.7423\tSpearman: 0.7410\n",
      "2019-09-22 23:47:09 - Dot-Product-Similarity:\tPearson: 0.6969\tSpearman: 0.7053\n"
     ]
    },
    {
     "name": "stderr",
     "output_type": "stream",
     "text": [
      "Convert Evaluating:   3%|▎         | 3/94 [00:00<00:03, 27.97it/s]"
     ]
    },
    {
     "name": "stdout",
     "output_type": "stream",
     "text": [
      "2019-09-22 23:51:49 - Evaluation the model on  dataset in epoch 0 after 25000 steps:\n"
     ]
    },
    {
     "name": "stderr",
     "output_type": "stream",
     "text": [
      "Convert Evaluating: 100%|██████████| 94/94 [00:05<00:00, 17.86it/s]\n"
     ]
    },
    {
     "name": "stdout",
     "output_type": "stream",
     "text": [
      "2019-09-22 23:51:54 - Cosine-Similarity :\tPearson: 0.7239\tSpearman: 0.7438\n",
      "2019-09-22 23:51:54 - Manhattan-Distance:\tPearson: 0.7511\tSpearman: 0.7498\n",
      "2019-09-22 23:51:54 - Euclidean-Distance:\tPearson: 0.7496\tSpearman: 0.7484\n",
      "2019-09-22 23:51:54 - Dot-Product-Similarity:\tPearson: 0.7011\tSpearman: 0.7053\n",
      "2019-09-22 23:51:54 - Save model to output/training_nli_bert-2019-09-22_21-50-05\n"
     ]
    },
    {
     "name": "stderr",
     "output_type": "stream",
     "text": [
      "Convert Evaluating:   3%|▎         | 3/94 [00:00<00:03, 27.87it/s]"
     ]
    },
    {
     "name": "stdout",
     "output_type": "stream",
     "text": [
      "2019-09-22 23:56:39 - Evaluation the model on  dataset in epoch 0 after 26000 steps:\n"
     ]
    },
    {
     "name": "stderr",
     "output_type": "stream",
     "text": [
      "Convert Evaluating: 100%|██████████| 94/94 [00:05<00:00, 17.81it/s]\n"
     ]
    },
    {
     "name": "stdout",
     "output_type": "stream",
     "text": [
      "2019-09-22 23:56:44 - Cosine-Similarity :\tPearson: 0.7228\tSpearman: 0.7429\n",
      "2019-09-22 23:56:44 - Manhattan-Distance:\tPearson: 0.7471\tSpearman: 0.7441\n",
      "2019-09-22 23:56:44 - Euclidean-Distance:\tPearson: 0.7456\tSpearman: 0.7431\n",
      "2019-09-22 23:56:44 - Dot-Product-Similarity:\tPearson: 0.7093\tSpearman: 0.7144\n"
     ]
    },
    {
     "name": "stderr",
     "output_type": "stream",
     "text": [
      "Convert Evaluating:   3%|▎         | 3/94 [00:00<00:03, 27.80it/s]"
     ]
    },
    {
     "name": "stdout",
     "output_type": "stream",
     "text": [
      "2019-09-23 00:01:24 - Evaluation the model on  dataset in epoch 0 after 27000 steps:\n"
     ]
    },
    {
     "name": "stderr",
     "output_type": "stream",
     "text": [
      "Convert Evaluating: 100%|██████████| 94/94 [00:05<00:00, 17.85it/s]\n"
     ]
    },
    {
     "name": "stdout",
     "output_type": "stream",
     "text": [
      "2019-09-23 00:01:29 - Cosine-Similarity :\tPearson: 0.7192\tSpearman: 0.7366\n",
      "2019-09-23 00:01:29 - Manhattan-Distance:\tPearson: 0.7414\tSpearman: 0.7392\n",
      "2019-09-23 00:01:29 - Euclidean-Distance:\tPearson: 0.7395\tSpearman: 0.7375\n",
      "2019-09-23 00:01:29 - Dot-Product-Similarity:\tPearson: 0.7024\tSpearman: 0.7069\n"
     ]
    },
    {
     "name": "stderr",
     "output_type": "stream",
     "text": [
      "Convert Evaluating:   3%|▎         | 3/94 [00:00<00:03, 27.68it/s]"
     ]
    },
    {
     "name": "stdout",
     "output_type": "stream",
     "text": [
      "2019-09-23 00:06:07 - Evaluation the model on  dataset in epoch 0 after 28000 steps:\n"
     ]
    },
    {
     "name": "stderr",
     "output_type": "stream",
     "text": [
      "Convert Evaluating: 100%|██████████| 94/94 [00:05<00:00, 17.80it/s]\n"
     ]
    },
    {
     "name": "stdout",
     "output_type": "stream",
     "text": [
      "2019-09-23 00:06:12 - Cosine-Similarity :\tPearson: 0.7265\tSpearman: 0.7459\n",
      "2019-09-23 00:06:12 - Manhattan-Distance:\tPearson: 0.7485\tSpearman: 0.7475\n",
      "2019-09-23 00:06:12 - Euclidean-Distance:\tPearson: 0.7467\tSpearman: 0.7461\n",
      "2019-09-23 00:06:12 - Dot-Product-Similarity:\tPearson: 0.7151\tSpearman: 0.7213\n"
     ]
    },
    {
     "name": "stderr",
     "output_type": "stream",
     "text": [
      "Convert Evaluating:   3%|▎         | 3/94 [00:00<00:03, 27.74it/s]"
     ]
    },
    {
     "name": "stdout",
     "output_type": "stream",
     "text": [
      "2019-09-23 00:10:56 - Evaluation the model on  dataset in epoch 0 after 29000 steps:\n"
     ]
    },
    {
     "name": "stderr",
     "output_type": "stream",
     "text": [
      "Convert Evaluating: 100%|██████████| 94/94 [00:05<00:00, 17.82it/s]\n"
     ]
    },
    {
     "name": "stdout",
     "output_type": "stream",
     "text": [
      "2019-09-23 00:11:01 - Cosine-Similarity :\tPearson: 0.7357\tSpearman: 0.7533\n",
      "2019-09-23 00:11:01 - Manhattan-Distance:\tPearson: 0.7565\tSpearman: 0.7550\n",
      "2019-09-23 00:11:01 - Euclidean-Distance:\tPearson: 0.7551\tSpearman: 0.7534\n",
      "2019-09-23 00:11:01 - Dot-Product-Similarity:\tPearson: 0.7226\tSpearman: 0.7279\n",
      "2019-09-23 00:11:01 - Save model to output/training_nli_bert-2019-09-22_21-50-05\n"
     ]
    },
    {
     "name": "stderr",
     "output_type": "stream",
     "text": [
      "Convert Evaluating:   3%|▎         | 3/94 [00:00<00:03, 27.93it/s]"
     ]
    },
    {
     "name": "stdout",
     "output_type": "stream",
     "text": [
      "2019-09-23 00:15:45 - Evaluation the model on  dataset in epoch 0 after 30000 steps:\n"
     ]
    },
    {
     "name": "stderr",
     "output_type": "stream",
     "text": [
      "Convert Evaluating: 100%|██████████| 94/94 [00:05<00:00, 17.86it/s]\n"
     ]
    },
    {
     "name": "stdout",
     "output_type": "stream",
     "text": [
      "2019-09-23 00:15:51 - Cosine-Similarity :\tPearson: 0.7290\tSpearman: 0.7489\n",
      "2019-09-23 00:15:51 - Manhattan-Distance:\tPearson: 0.7548\tSpearman: 0.7543\n",
      "2019-09-23 00:15:51 - Euclidean-Distance:\tPearson: 0.7524\tSpearman: 0.7524\n",
      "2019-09-23 00:15:51 - Dot-Product-Similarity:\tPearson: 0.7084\tSpearman: 0.7145\n"
     ]
    },
    {
     "name": "stderr",
     "output_type": "stream",
     "text": [
      "Convert Evaluating:   3%|▎         | 3/94 [00:00<00:03, 27.86it/s]"
     ]
    },
    {
     "name": "stdout",
     "output_type": "stream",
     "text": [
      "2019-09-23 00:20:31 - Evaluation the model on  dataset in epoch 0 after 31000 steps:\n"
     ]
    },
    {
     "name": "stderr",
     "output_type": "stream",
     "text": [
      "Convert Evaluating: 100%|██████████| 94/94 [00:05<00:00, 17.86it/s]\n"
     ]
    },
    {
     "name": "stdout",
     "output_type": "stream",
     "text": [
      "2019-09-23 00:20:36 - Cosine-Similarity :\tPearson: 0.7249\tSpearman: 0.7440\n",
      "2019-09-23 00:20:36 - Manhattan-Distance:\tPearson: 0.7482\tSpearman: 0.7468\n",
      "2019-09-23 00:20:36 - Euclidean-Distance:\tPearson: 0.7462\tSpearman: 0.7453\n",
      "2019-09-23 00:20:36 - Dot-Product-Similarity:\tPearson: 0.7125\tSpearman: 0.7193\n"
     ]
    },
    {
     "name": "stderr",
     "output_type": "stream",
     "text": [
      "Convert Evaluating:   3%|▎         | 3/94 [00:00<00:03, 27.75it/s]"
     ]
    },
    {
     "name": "stdout",
     "output_type": "stream",
     "text": [
      "2019-09-23 00:25:19 - Evaluation the model on  dataset in epoch 0 after 32000 steps:\n"
     ]
    },
    {
     "name": "stderr",
     "output_type": "stream",
     "text": [
      "Convert Evaluating: 100%|██████████| 94/94 [00:05<00:00, 17.85it/s]\n"
     ]
    },
    {
     "name": "stdout",
     "output_type": "stream",
     "text": [
      "2019-09-23 00:25:24 - Cosine-Similarity :\tPearson: 0.7335\tSpearman: 0.7486\n",
      "2019-09-23 00:25:24 - Manhattan-Distance:\tPearson: 0.7539\tSpearman: 0.7511\n",
      "2019-09-23 00:25:24 - Euclidean-Distance:\tPearson: 0.7536\tSpearman: 0.7513\n",
      "2019-09-23 00:25:24 - Dot-Product-Similarity:\tPearson: 0.7155\tSpearman: 0.7180\n"
     ]
    },
    {
     "name": "stderr",
     "output_type": "stream",
     "text": [
      "Convert Evaluating:   3%|▎         | 3/94 [00:00<00:03, 28.01it/s]"
     ]
    },
    {
     "name": "stdout",
     "output_type": "stream",
     "text": [
      "2019-09-23 00:30:01 - Evaluation the model on  dataset in epoch 0 after 33000 steps:\n"
     ]
    },
    {
     "name": "stderr",
     "output_type": "stream",
     "text": [
      "Convert Evaluating: 100%|██████████| 94/94 [00:05<00:00, 17.85it/s]\n"
     ]
    },
    {
     "name": "stdout",
     "output_type": "stream",
     "text": [
      "2019-09-23 00:30:06 - Cosine-Similarity :\tPearson: 0.7405\tSpearman: 0.7563\n",
      "2019-09-23 00:30:06 - Manhattan-Distance:\tPearson: 0.7598\tSpearman: 0.7582\n",
      "2019-09-23 00:30:06 - Euclidean-Distance:\tPearson: 0.7586\tSpearman: 0.7569\n",
      "2019-09-23 00:30:06 - Dot-Product-Similarity:\tPearson: 0.7318\tSpearman: 0.7372\n",
      "2019-09-23 00:30:06 - Save model to output/training_nli_bert-2019-09-22_21-50-05\n"
     ]
    },
    {
     "name": "stderr",
     "output_type": "stream",
     "text": [
      "Convert Evaluating:   3%|▎         | 3/94 [00:00<00:03, 27.75it/s]"
     ]
    },
    {
     "name": "stdout",
     "output_type": "stream",
     "text": [
      "2019-09-23 00:34:50 - Evaluation the model on  dataset in epoch 0 after 34000 steps:\n"
     ]
    },
    {
     "name": "stderr",
     "output_type": "stream",
     "text": [
      "Convert Evaluating: 100%|██████████| 94/94 [00:05<00:00, 17.86it/s]\n"
     ]
    },
    {
     "name": "stdout",
     "output_type": "stream",
     "text": [
      "2019-09-23 00:34:55 - Cosine-Similarity :\tPearson: 0.7402\tSpearman: 0.7585\n",
      "2019-09-23 00:34:55 - Manhattan-Distance:\tPearson: 0.7629\tSpearman: 0.7617\n",
      "2019-09-23 00:34:55 - Euclidean-Distance:\tPearson: 0.7618\tSpearman: 0.7611\n",
      "2019-09-23 00:34:55 - Dot-Product-Similarity:\tPearson: 0.7252\tSpearman: 0.7312\n",
      "2019-09-23 00:34:55 - Save model to output/training_nli_bert-2019-09-22_21-50-05\n"
     ]
    },
    {
     "name": "stderr",
     "output_type": "stream",
     "text": [
      "Convert Evaluating:   3%|▎         | 3/94 [00:00<00:03, 27.92it/s]"
     ]
    },
    {
     "name": "stdout",
     "output_type": "stream",
     "text": [
      "2019-09-23 00:39:37 - Evaluation the model on  dataset in epoch 0 after 35000 steps:\n"
     ]
    },
    {
     "name": "stderr",
     "output_type": "stream",
     "text": [
      "Convert Evaluating: 100%|██████████| 94/94 [00:05<00:00, 17.84it/s]\n"
     ]
    },
    {
     "name": "stdout",
     "output_type": "stream",
     "text": [
      "2019-09-23 00:39:43 - Cosine-Similarity :\tPearson: 0.7426\tSpearman: 0.7609\n",
      "2019-09-23 00:39:43 - Manhattan-Distance:\tPearson: 0.7648\tSpearman: 0.7637\n",
      "2019-09-23 00:39:43 - Euclidean-Distance:\tPearson: 0.7632\tSpearman: 0.7626\n",
      "2019-09-23 00:39:43 - Dot-Product-Similarity:\tPearson: 0.7290\tSpearman: 0.7349\n",
      "2019-09-23 00:39:43 - Save model to output/training_nli_bert-2019-09-22_21-50-05\n"
     ]
    },
    {
     "name": "stderr",
     "output_type": "stream",
     "text": [
      "Convert Evaluating:   3%|▎         | 3/94 [00:00<00:03, 28.08it/s]"
     ]
    },
    {
     "name": "stdout",
     "output_type": "stream",
     "text": [
      "2019-09-23 00:44:23 - Evaluation the model on  dataset in epoch 0 after 36000 steps:\n"
     ]
    },
    {
     "name": "stderr",
     "output_type": "stream",
     "text": [
      "Convert Evaluating: 100%|██████████| 94/94 [00:05<00:00, 17.85it/s]\n"
     ]
    },
    {
     "name": "stdout",
     "output_type": "stream",
     "text": [
      "2019-09-23 00:44:28 - Cosine-Similarity :\tPearson: 0.7383\tSpearman: 0.7552\n",
      "2019-09-23 00:44:28 - Manhattan-Distance:\tPearson: 0.7592\tSpearman: 0.7582\n",
      "2019-09-23 00:44:28 - Euclidean-Distance:\tPearson: 0.7585\tSpearman: 0.7581\n",
      "2019-09-23 00:44:28 - Dot-Product-Similarity:\tPearson: 0.7255\tSpearman: 0.7325\n"
     ]
    },
    {
     "name": "stderr",
     "output_type": "stream",
     "text": [
      "Convert Evaluating:   3%|▎         | 3/94 [00:00<00:03, 28.05it/s]"
     ]
    },
    {
     "name": "stdout",
     "output_type": "stream",
     "text": [
      "2019-09-23 00:49:06 - Evaluation the model on  dataset in epoch 0 after 37000 steps:\n"
     ]
    },
    {
     "name": "stderr",
     "output_type": "stream",
     "text": [
      "Convert Evaluating: 100%|██████████| 94/94 [00:05<00:00, 17.84it/s]\n"
     ]
    },
    {
     "name": "stdout",
     "output_type": "stream",
     "text": [
      "2019-09-23 00:49:11 - Cosine-Similarity :\tPearson: 0.7401\tSpearman: 0.7604\n",
      "2019-09-23 00:49:11 - Manhattan-Distance:\tPearson: 0.7639\tSpearman: 0.7632\n",
      "2019-09-23 00:49:11 - Euclidean-Distance:\tPearson: 0.7624\tSpearman: 0.7622\n",
      "2019-09-23 00:49:11 - Dot-Product-Similarity:\tPearson: 0.7268\tSpearman: 0.7340\n"
     ]
    },
    {
     "name": "stderr",
     "output_type": "stream",
     "text": [
      "Convert Evaluating:   3%|▎         | 3/94 [00:00<00:03, 28.09it/s]"
     ]
    },
    {
     "name": "stdout",
     "output_type": "stream",
     "text": [
      "2019-09-23 00:53:48 - Evaluation the model on  dataset in epoch 0 after 38000 steps:\n"
     ]
    },
    {
     "name": "stderr",
     "output_type": "stream",
     "text": [
      "Convert Evaluating: 100%|██████████| 94/94 [00:05<00:00, 17.86it/s]\n"
     ]
    },
    {
     "name": "stdout",
     "output_type": "stream",
     "text": [
      "2019-09-23 00:53:53 - Cosine-Similarity :\tPearson: 0.7387\tSpearman: 0.7563\n",
      "2019-09-23 00:53:53 - Manhattan-Distance:\tPearson: 0.7592\tSpearman: 0.7593\n",
      "2019-09-23 00:53:53 - Euclidean-Distance:\tPearson: 0.7586\tSpearman: 0.7589\n",
      "2019-09-23 00:53:53 - Dot-Product-Similarity:\tPearson: 0.7245\tSpearman: 0.7315\n"
     ]
    },
    {
     "name": "stderr",
     "output_type": "stream",
     "text": [
      "Convert Evaluating:   3%|▎         | 3/94 [00:00<00:03, 27.97it/s]"
     ]
    },
    {
     "name": "stdout",
     "output_type": "stream",
     "text": [
      "2019-09-23 00:58:33 - Evaluation the model on  dataset in epoch 0 after 39000 steps:\n"
     ]
    },
    {
     "name": "stderr",
     "output_type": "stream",
     "text": [
      "Convert Evaluating: 100%|██████████| 94/94 [00:05<00:00, 17.87it/s]\n"
     ]
    },
    {
     "name": "stdout",
     "output_type": "stream",
     "text": [
      "2019-09-23 00:58:39 - Cosine-Similarity :\tPearson: 0.7491\tSpearman: 0.7660\n",
      "2019-09-23 00:58:39 - Manhattan-Distance:\tPearson: 0.7700\tSpearman: 0.7699\n",
      "2019-09-23 00:58:39 - Euclidean-Distance:\tPearson: 0.7697\tSpearman: 0.7698\n",
      "2019-09-23 00:58:39 - Dot-Product-Similarity:\tPearson: 0.7306\tSpearman: 0.7370\n",
      "2019-09-23 00:58:39 - Save model to output/training_nli_bert-2019-09-22_21-50-05\n"
     ]
    },
    {
     "name": "stderr",
     "output_type": "stream",
     "text": [
      "Convert Evaluating:   3%|▎         | 3/94 [00:00<00:03, 28.10it/s]"
     ]
    },
    {
     "name": "stdout",
     "output_type": "stream",
     "text": [
      "2019-09-23 01:03:22 - Evaluation the model on  dataset in epoch 0 after 40000 steps:\n"
     ]
    },
    {
     "name": "stderr",
     "output_type": "stream",
     "text": [
      "Convert Evaluating: 100%|██████████| 94/94 [00:05<00:00, 17.86it/s]\n"
     ]
    },
    {
     "name": "stdout",
     "output_type": "stream",
     "text": [
      "2019-09-23 01:03:27 - Cosine-Similarity :\tPearson: 0.7474\tSpearman: 0.7673\n",
      "2019-09-23 01:03:27 - Manhattan-Distance:\tPearson: 0.7695\tSpearman: 0.7696\n",
      "2019-09-23 01:03:27 - Euclidean-Distance:\tPearson: 0.7687\tSpearman: 0.7692\n",
      "2019-09-23 01:03:27 - Dot-Product-Similarity:\tPearson: 0.7350\tSpearman: 0.7436\n"
     ]
    },
    {
     "name": "stderr",
     "output_type": "stream",
     "text": [
      "Convert Evaluating:   3%|▎         | 3/94 [00:00<00:03, 28.12it/s]"
     ]
    },
    {
     "name": "stdout",
     "output_type": "stream",
     "text": [
      "2019-09-23 01:08:10 - Evaluation the model on  dataset in epoch 0 after 41000 steps:\n"
     ]
    },
    {
     "name": "stderr",
     "output_type": "stream",
     "text": [
      "Convert Evaluating: 100%|██████████| 94/94 [00:05<00:00, 17.87it/s]\n"
     ]
    },
    {
     "name": "stdout",
     "output_type": "stream",
     "text": [
      "2019-09-23 01:08:15 - Cosine-Similarity :\tPearson: 0.7457\tSpearman: 0.7663\n",
      "2019-09-23 01:08:15 - Manhattan-Distance:\tPearson: 0.7688\tSpearman: 0.7688\n",
      "2019-09-23 01:08:15 - Euclidean-Distance:\tPearson: 0.7679\tSpearman: 0.7682\n",
      "2019-09-23 01:08:15 - Dot-Product-Similarity:\tPearson: 0.7330\tSpearman: 0.7434\n"
     ]
    },
    {
     "name": "stderr",
     "output_type": "stream",
     "text": [
      "Convert Evaluating:   3%|▎         | 3/94 [00:00<00:03, 27.92it/s]"
     ]
    },
    {
     "name": "stdout",
     "output_type": "stream",
     "text": [
      "2019-09-23 01:12:57 - Evaluation the model on  dataset in epoch 0 after 42000 steps:\n"
     ]
    },
    {
     "name": "stderr",
     "output_type": "stream",
     "text": [
      "Convert Evaluating: 100%|██████████| 94/94 [00:05<00:00, 17.82it/s]\n"
     ]
    },
    {
     "name": "stdout",
     "output_type": "stream",
     "text": [
      "2019-09-23 01:13:02 - Cosine-Similarity :\tPearson: 0.7465\tSpearman: 0.7631\n",
      "2019-09-23 01:13:02 - Manhattan-Distance:\tPearson: 0.7658\tSpearman: 0.7652\n",
      "2019-09-23 01:13:02 - Euclidean-Distance:\tPearson: 0.7651\tSpearman: 0.7650\n",
      "2019-09-23 01:13:02 - Dot-Product-Similarity:\tPearson: 0.7374\tSpearman: 0.7461\n"
     ]
    },
    {
     "name": "stderr",
     "output_type": "stream",
     "text": [
      "Convert Evaluating:   3%|▎         | 3/94 [00:00<00:03, 27.81it/s]"
     ]
    },
    {
     "name": "stdout",
     "output_type": "stream",
     "text": [
      "2019-09-23 01:17:44 - Evaluation the model on  dataset in epoch 0 after 43000 steps:\n"
     ]
    },
    {
     "name": "stderr",
     "output_type": "stream",
     "text": [
      "Convert Evaluating: 100%|██████████| 94/94 [00:05<00:00, 17.85it/s]\n"
     ]
    },
    {
     "name": "stdout",
     "output_type": "stream",
     "text": [
      "2019-09-23 01:17:49 - Cosine-Similarity :\tPearson: 0.7481\tSpearman: 0.7646\n",
      "2019-09-23 01:17:49 - Manhattan-Distance:\tPearson: 0.7668\tSpearman: 0.7669\n",
      "2019-09-23 01:17:49 - Euclidean-Distance:\tPearson: 0.7665\tSpearman: 0.7668\n",
      "2019-09-23 01:17:49 - Dot-Product-Similarity:\tPearson: 0.7361\tSpearman: 0.7438\n"
     ]
    },
    {
     "name": "stderr",
     "output_type": "stream",
     "text": [
      "Convert Evaluating:   3%|▎         | 3/94 [00:00<00:03, 27.81it/s]"
     ]
    },
    {
     "name": "stdout",
     "output_type": "stream",
     "text": [
      "2019-09-23 01:22:29 - Evaluation the model on  dataset in epoch 0 after 44000 steps:\n"
     ]
    },
    {
     "name": "stderr",
     "output_type": "stream",
     "text": [
      "Convert Evaluating: 100%|██████████| 94/94 [00:05<00:00, 17.86it/s]\n"
     ]
    },
    {
     "name": "stdout",
     "output_type": "stream",
     "text": [
      "2019-09-23 01:22:35 - Cosine-Similarity :\tPearson: 0.7433\tSpearman: 0.7610\n",
      "2019-09-23 01:22:35 - Manhattan-Distance:\tPearson: 0.7633\tSpearman: 0.7625\n",
      "2019-09-23 01:22:35 - Euclidean-Distance:\tPearson: 0.7628\tSpearman: 0.7625\n",
      "2019-09-23 01:22:35 - Dot-Product-Similarity:\tPearson: 0.7341\tSpearman: 0.7428\n"
     ]
    },
    {
     "name": "stderr",
     "output_type": "stream",
     "text": [
      "Convert Evaluating:   3%|▎         | 3/94 [00:00<00:03, 28.09it/s]"
     ]
    },
    {
     "name": "stdout",
     "output_type": "stream",
     "text": [
      "2019-09-23 01:27:16 - Evaluation the model on  dataset in epoch 0 after 45000 steps:\n"
     ]
    },
    {
     "name": "stderr",
     "output_type": "stream",
     "text": [
      "Convert Evaluating: 100%|██████████| 94/94 [00:05<00:00, 17.86it/s]\n"
     ]
    },
    {
     "name": "stdout",
     "output_type": "stream",
     "text": [
      "2019-09-23 01:27:21 - Cosine-Similarity :\tPearson: 0.7478\tSpearman: 0.7631\n",
      "2019-09-23 01:27:21 - Manhattan-Distance:\tPearson: 0.7661\tSpearman: 0.7656\n",
      "2019-09-23 01:27:21 - Euclidean-Distance:\tPearson: 0.7658\tSpearman: 0.7652\n",
      "2019-09-23 01:27:21 - Dot-Product-Similarity:\tPearson: 0.7388\tSpearman: 0.7467\n"
     ]
    },
    {
     "name": "stderr",
     "output_type": "stream",
     "text": [
      "Convert Evaluating:   3%|▎         | 3/94 [00:00<00:03, 28.02it/s]"
     ]
    },
    {
     "name": "stdout",
     "output_type": "stream",
     "text": [
      "2019-09-23 01:32:03 - Evaluation the model on  dataset in epoch 0 after 46000 steps:\n"
     ]
    },
    {
     "name": "stderr",
     "output_type": "stream",
     "text": [
      "Convert Evaluating: 100%|██████████| 94/94 [00:05<00:00, 17.87it/s]\n"
     ]
    },
    {
     "name": "stdout",
     "output_type": "stream",
     "text": [
      "2019-09-23 01:32:08 - Cosine-Similarity :\tPearson: 0.7490\tSpearman: 0.7671\n",
      "2019-09-23 01:32:08 - Manhattan-Distance:\tPearson: 0.7694\tSpearman: 0.7690\n",
      "2019-09-23 01:32:08 - Euclidean-Distance:\tPearson: 0.7683\tSpearman: 0.7682\n",
      "2019-09-23 01:32:08 - Dot-Product-Similarity:\tPearson: 0.7423\tSpearman: 0.7536\n"
     ]
    },
    {
     "name": "stderr",
     "output_type": "stream",
     "text": [
      "Convert Evaluating:   3%|▎         | 3/94 [00:00<00:03, 28.03it/s]"
     ]
    },
    {
     "name": "stdout",
     "output_type": "stream",
     "text": [
      "2019-09-23 01:36:49 - Evaluation the model on  dataset in epoch 0 after 47000 steps:\n"
     ]
    },
    {
     "name": "stderr",
     "output_type": "stream",
     "text": [
      "Convert Evaluating: 100%|██████████| 94/94 [00:05<00:00, 17.85it/s]\n"
     ]
    },
    {
     "name": "stdout",
     "output_type": "stream",
     "text": [
      "2019-09-23 01:36:54 - Cosine-Similarity :\tPearson: 0.7538\tSpearman: 0.7686\n",
      "2019-09-23 01:36:54 - Manhattan-Distance:\tPearson: 0.7703\tSpearman: 0.7702\n",
      "2019-09-23 01:36:54 - Euclidean-Distance:\tPearson: 0.7694\tSpearman: 0.7699\n",
      "2019-09-23 01:36:54 - Dot-Product-Similarity:\tPearson: 0.7445\tSpearman: 0.7523\n",
      "2019-09-23 01:36:54 - Save model to output/training_nli_bert-2019-09-22_21-50-05\n"
     ]
    },
    {
     "name": "stderr",
     "output_type": "stream",
     "text": [
      "Convert Evaluating:   3%|▎         | 3/94 [00:00<00:03, 27.97it/s]"
     ]
    },
    {
     "name": "stdout",
     "output_type": "stream",
     "text": [
      "2019-09-23 01:41:36 - Evaluation the model on  dataset in epoch 0 after 48000 steps:\n"
     ]
    },
    {
     "name": "stderr",
     "output_type": "stream",
     "text": [
      "Convert Evaluating: 100%|██████████| 94/94 [00:05<00:00, 17.84it/s]\n"
     ]
    },
    {
     "name": "stdout",
     "output_type": "stream",
     "text": [
      "2019-09-23 01:41:42 - Cosine-Similarity :\tPearson: 0.7555\tSpearman: 0.7702\n",
      "2019-09-23 01:41:42 - Manhattan-Distance:\tPearson: 0.7718\tSpearman: 0.7719\n",
      "2019-09-23 01:41:42 - Euclidean-Distance:\tPearson: 0.7715\tSpearman: 0.7719\n",
      "2019-09-23 01:41:42 - Dot-Product-Similarity:\tPearson: 0.7448\tSpearman: 0.7520\n",
      "2019-09-23 01:41:42 - Save model to output/training_nli_bert-2019-09-22_21-50-05\n"
     ]
    },
    {
     "name": "stderr",
     "output_type": "stream",
     "text": [
      "Convert Evaluating:   3%|▎         | 3/94 [00:00<00:03, 28.08it/s]"
     ]
    },
    {
     "name": "stdout",
     "output_type": "stream",
     "text": [
      "2019-09-23 01:46:24 - Evaluation the model on  dataset in epoch 0 after 49000 steps:\n"
     ]
    },
    {
     "name": "stderr",
     "output_type": "stream",
     "text": [
      "Convert Evaluating: 100%|██████████| 94/94 [00:05<00:00, 17.87it/s]\n"
     ]
    },
    {
     "name": "stdout",
     "output_type": "stream",
     "text": [
      "2019-09-23 01:46:30 - Cosine-Similarity :\tPearson: 0.7482\tSpearman: 0.7631\n",
      "2019-09-23 01:46:30 - Manhattan-Distance:\tPearson: 0.7660\tSpearman: 0.7657\n",
      "2019-09-23 01:46:30 - Euclidean-Distance:\tPearson: 0.7656\tSpearman: 0.7652\n",
      "2019-09-23 01:46:30 - Dot-Product-Similarity:\tPearson: 0.7383\tSpearman: 0.7458\n"
     ]
    },
    {
     "name": "stderr",
     "output_type": "stream",
     "text": [
      "Convert Evaluating:   3%|▎         | 3/94 [00:00<00:03, 27.92it/s]"
     ]
    },
    {
     "name": "stdout",
     "output_type": "stream",
     "text": [
      "2019-09-23 01:51:13 - Evaluation the model on  dataset in epoch 0 after 50000 steps:\n"
     ]
    },
    {
     "name": "stderr",
     "output_type": "stream",
     "text": [
      "Convert Evaluating: 100%|██████████| 94/94 [00:05<00:00, 17.85it/s]\n"
     ]
    },
    {
     "name": "stdout",
     "output_type": "stream",
     "text": [
      "2019-09-23 01:51:18 - Cosine-Similarity :\tPearson: 0.7542\tSpearman: 0.7709\n",
      "2019-09-23 01:51:18 - Manhattan-Distance:\tPearson: 0.7732\tSpearman: 0.7732\n",
      "2019-09-23 01:51:18 - Euclidean-Distance:\tPearson: 0.7726\tSpearman: 0.7729\n",
      "2019-09-23 01:51:18 - Dot-Product-Similarity:\tPearson: 0.7466\tSpearman: 0.7562\n",
      "2019-09-23 01:51:18 - Save model to output/training_nli_bert-2019-09-22_21-50-05\n"
     ]
    },
    {
     "name": "stderr",
     "output_type": "stream",
     "text": [
      "Convert Evaluating:   3%|▎         | 3/94 [00:00<00:03, 28.15it/s]"
     ]
    },
    {
     "name": "stdout",
     "output_type": "stream",
     "text": [
      "2019-09-23 01:55:59 - Evaluation the model on  dataset in epoch 0 after 51000 steps:\n"
     ]
    },
    {
     "name": "stderr",
     "output_type": "stream",
     "text": [
      "Convert Evaluating: 100%|██████████| 94/94 [00:05<00:00, 17.82it/s]\n"
     ]
    },
    {
     "name": "stdout",
     "output_type": "stream",
     "text": [
      "2019-09-23 01:56:04 - Cosine-Similarity :\tPearson: 0.7589\tSpearman: 0.7731\n",
      "2019-09-23 01:56:04 - Manhattan-Distance:\tPearson: 0.7749\tSpearman: 0.7752\n",
      "2019-09-23 01:56:04 - Euclidean-Distance:\tPearson: 0.7746\tSpearman: 0.7750\n",
      "2019-09-23 01:56:04 - Dot-Product-Similarity:\tPearson: 0.7490\tSpearman: 0.7559\n",
      "2019-09-23 01:56:04 - Save model to output/training_nli_bert-2019-09-22_21-50-05\n"
     ]
    },
    {
     "name": "stderr",
     "output_type": "stream",
     "text": [
      "Convert Evaluating:   3%|▎         | 3/94 [00:00<00:03, 27.57it/s]"
     ]
    },
    {
     "name": "stdout",
     "output_type": "stream",
     "text": [
      "2019-09-23 02:00:47 - Evaluation the model on  dataset in epoch 0 after 52000 steps:\n"
     ]
    },
    {
     "name": "stderr",
     "output_type": "stream",
     "text": [
      "Convert Evaluating: 100%|██████████| 94/94 [00:05<00:00, 17.85it/s]\n"
     ]
    },
    {
     "name": "stdout",
     "output_type": "stream",
     "text": [
      "2019-09-23 02:00:53 - Cosine-Similarity :\tPearson: 0.7552\tSpearman: 0.7682\n",
      "2019-09-23 02:00:53 - Manhattan-Distance:\tPearson: 0.7703\tSpearman: 0.7708\n",
      "2019-09-23 02:00:53 - Euclidean-Distance:\tPearson: 0.7700\tSpearman: 0.7705\n",
      "2019-09-23 02:00:53 - Dot-Product-Similarity:\tPearson: 0.7451\tSpearman: 0.7514\n"
     ]
    },
    {
     "name": "stderr",
     "output_type": "stream",
     "text": [
      "Convert Evaluating:   3%|▎         | 3/94 [00:00<00:03, 27.89it/s]"
     ]
    },
    {
     "name": "stdout",
     "output_type": "stream",
     "text": [
      "2019-09-23 02:05:34 - Evaluation the model on  dataset in epoch 0 after 53000 steps:\n"
     ]
    },
    {
     "name": "stderr",
     "output_type": "stream",
     "text": [
      "Convert Evaluating: 100%|██████████| 94/94 [00:05<00:00, 17.85it/s]\n"
     ]
    },
    {
     "name": "stdout",
     "output_type": "stream",
     "text": [
      "2019-09-23 02:05:39 - Cosine-Similarity :\tPearson: 0.7556\tSpearman: 0.7692\n",
      "2019-09-23 02:05:39 - Manhattan-Distance:\tPearson: 0.7717\tSpearman: 0.7715\n",
      "2019-09-23 02:05:39 - Euclidean-Distance:\tPearson: 0.7718\tSpearman: 0.7718\n",
      "2019-09-23 02:05:39 - Dot-Product-Similarity:\tPearson: 0.7451\tSpearman: 0.7518\n"
     ]
    },
    {
     "name": "stderr",
     "output_type": "stream",
     "text": [
      "Convert Evaluating:   3%|▎         | 3/94 [00:00<00:03, 28.20it/s]"
     ]
    },
    {
     "name": "stdout",
     "output_type": "stream",
     "text": [
      "2019-09-23 02:10:21 - Evaluation the model on  dataset in epoch 0 after 54000 steps:\n"
     ]
    },
    {
     "name": "stderr",
     "output_type": "stream",
     "text": [
      "Convert Evaluating: 100%|██████████| 94/94 [00:05<00:00, 17.84it/s]\n"
     ]
    },
    {
     "name": "stdout",
     "output_type": "stream",
     "text": [
      "2019-09-23 02:10:26 - Cosine-Similarity :\tPearson: 0.7551\tSpearman: 0.7689\n",
      "2019-09-23 02:10:26 - Manhattan-Distance:\tPearson: 0.7712\tSpearman: 0.7708\n",
      "2019-09-23 02:10:26 - Euclidean-Distance:\tPearson: 0.7706\tSpearman: 0.7704\n",
      "2019-09-23 02:10:26 - Dot-Product-Similarity:\tPearson: 0.7462\tSpearman: 0.7529\n"
     ]
    },
    {
     "name": "stderr",
     "output_type": "stream",
     "text": [
      "Convert Evaluating:   3%|▎         | 3/94 [00:00<00:03, 28.08it/s]"
     ]
    },
    {
     "name": "stdout",
     "output_type": "stream",
     "text": [
      "2019-09-23 02:15:06 - Evaluation the model on  dataset in epoch 0 after 55000 steps:\n"
     ]
    },
    {
     "name": "stderr",
     "output_type": "stream",
     "text": [
      "Convert Evaluating: 100%|██████████| 94/94 [00:05<00:00, 17.83it/s]\n"
     ]
    },
    {
     "name": "stdout",
     "output_type": "stream",
     "text": [
      "2019-09-23 02:15:12 - Cosine-Similarity :\tPearson: 0.7564\tSpearman: 0.7689\n",
      "2019-09-23 02:15:12 - Manhattan-Distance:\tPearson: 0.7714\tSpearman: 0.7710\n",
      "2019-09-23 02:15:12 - Euclidean-Distance:\tPearson: 0.7709\tSpearman: 0.7708\n",
      "2019-09-23 02:15:12 - Dot-Product-Similarity:\tPearson: 0.7463\tSpearman: 0.7518\n"
     ]
    },
    {
     "name": "stderr",
     "output_type": "stream",
     "text": [
      "Convert Evaluating:   3%|▎         | 3/94 [00:00<00:03, 28.07it/s]"
     ]
    },
    {
     "name": "stdout",
     "output_type": "stream",
     "text": [
      "2019-09-23 02:19:56 - Evaluation the model on  dataset in epoch 0 after 56000 steps:\n"
     ]
    },
    {
     "name": "stderr",
     "output_type": "stream",
     "text": [
      "Convert Evaluating: 100%|██████████| 94/94 [00:05<00:00, 17.84it/s]\n"
     ]
    },
    {
     "name": "stdout",
     "output_type": "stream",
     "text": [
      "2019-09-23 02:20:02 - Cosine-Similarity :\tPearson: 0.7562\tSpearman: 0.7694\n",
      "2019-09-23 02:20:02 - Manhattan-Distance:\tPearson: 0.7717\tSpearman: 0.7715\n",
      "2019-09-23 02:20:02 - Euclidean-Distance:\tPearson: 0.7712\tSpearman: 0.7712\n",
      "2019-09-23 02:20:02 - Dot-Product-Similarity:\tPearson: 0.7466\tSpearman: 0.7529\n"
     ]
    },
    {
     "name": "stderr",
     "output_type": "stream",
     "text": [
      "Convert Evaluating:   3%|▎         | 3/94 [00:00<00:03, 28.25it/s]"
     ]
    },
    {
     "name": "stdout",
     "output_type": "stream",
     "text": [
      "2019-09-23 02:24:42 - Evaluation the model on  dataset in epoch 0 after 57000 steps:\n"
     ]
    },
    {
     "name": "stderr",
     "output_type": "stream",
     "text": [
      "Convert Evaluating: 100%|██████████| 94/94 [00:05<00:00, 17.86it/s]\n"
     ]
    },
    {
     "name": "stdout",
     "output_type": "stream",
     "text": [
      "2019-09-23 02:24:48 - Cosine-Similarity :\tPearson: 0.7568\tSpearman: 0.7701\n",
      "2019-09-23 02:24:48 - Manhattan-Distance:\tPearson: 0.7723\tSpearman: 0.7722\n",
      "2019-09-23 02:24:48 - Euclidean-Distance:\tPearson: 0.7716\tSpearman: 0.7717\n",
      "2019-09-23 02:24:48 - Dot-Product-Similarity:\tPearson: 0.7477\tSpearman: 0.7541\n"
     ]
    },
    {
     "name": "stderr",
     "output_type": "stream",
     "text": [
      "Convert Evaluating:   3%|▎         | 3/94 [00:00<00:03, 28.08it/s]"
     ]
    },
    {
     "name": "stdout",
     "output_type": "stream",
     "text": [
      "2019-09-23 02:29:28 - Evaluation the model on  dataset in epoch 0 after 58000 steps:\n"
     ]
    },
    {
     "name": "stderr",
     "output_type": "stream",
     "text": [
      "Convert Evaluating: 100%|██████████| 94/94 [00:05<00:00, 17.85it/s]\n"
     ]
    },
    {
     "name": "stdout",
     "output_type": "stream",
     "text": [
      "2019-09-23 02:29:33 - Cosine-Similarity :\tPearson: 0.7573\tSpearman: 0.7699\n",
      "2019-09-23 02:29:33 - Manhattan-Distance:\tPearson: 0.7724\tSpearman: 0.7723\n",
      "2019-09-23 02:29:33 - Euclidean-Distance:\tPearson: 0.7717\tSpearman: 0.7719\n",
      "2019-09-23 02:29:33 - Dot-Product-Similarity:\tPearson: 0.7480\tSpearman: 0.7538\n"
     ]
    },
    {
     "name": "stderr",
     "output_type": "stream",
     "text": [
      "Convert Evaluating:   3%|▎         | 3/94 [00:00<00:03, 28.32it/s]"
     ]
    },
    {
     "name": "stdout",
     "output_type": "stream",
     "text": [
      "\n",
      "2019-09-23 02:33:40 - Evaluation the model on  dataset after epoch 0:\n"
     ]
    },
    {
     "name": "stderr",
     "output_type": "stream",
     "text": [
      "Convert Evaluating: 100%|██████████| 94/94 [00:05<00:00, 17.85it/s]"
     ]
    },
    {
     "name": "stdout",
     "output_type": "stream",
     "text": [
      "2019-09-23 02:33:45 - Cosine-Similarity :\tPearson: 0.7573\tSpearman: 0.7699\n",
      "2019-09-23 02:33:45 - Manhattan-Distance:\tPearson: 0.7723\tSpearman: 0.7721\n",
      "2019-09-23 02:33:45 - Euclidean-Distance:\tPearson: 0.7717\tSpearman: 0.7719\n",
      "2019-09-23 02:33:45 - Dot-Product-Similarity:\tPearson: 0.7480\tSpearman: 0.7540\n",
      "\n"
     ]
    },
    {
     "name": "stderr",
     "output_type": "stream",
     "text": [
      "\n"
     ]
    }
   ],
   "source": [
    "# Configure the training\n",
    "num_epochs = 1\n",
    "\n",
    "warmup_steps = math.ceil(len(train_dataloader) * num_epochs * 0.1) #10% of train data for warm-up\n",
    "logging.info(\"Warmup-steps: {}\".format(warmup_steps))\n",
    "\n",
    "# Train the model\n",
    "model.fit(train_objectives=[(train_dataloader, train_loss)],\n",
    "          evaluator=evaluator,\n",
    "          epochs=num_epochs,\n",
    "          evaluation_steps=1000,\n",
    "          warmup_steps=warmup_steps,\n",
    "          output_path=model_save_path\n",
    "          )"
   ]
  },
  {
   "cell_type": "code",
   "execution_count": 90,
   "metadata": {},
   "outputs": [
    {
     "data": {
      "text/plain": [
       "'output/training_nli_bert-2019-09-22_21-50-05'"
      ]
     },
     "execution_count": 90,
     "metadata": {},
     "output_type": "execute_result"
    }
   ],
   "source": [
    "model_save_path"
   ]
  },
  {
   "cell_type": "code",
   "execution_count": 11,
   "metadata": {},
   "outputs": [
    {
     "name": "stdout",
     "output_type": "stream",
     "text": [
      "2019-09-23 14:37:07 - Load pretrained SentenceTransformer: output/training_nli_bert-2019-09-22_21-50-05\n",
      "2019-09-23 14:37:07 - Load SentenceTransformer from folder: output/training_nli_bert-2019-09-22_21-50-05\n",
      "2019-09-23 14:37:07 - loading configuration file output/training_nli_bert-2019-09-22_21-50-05/0_BERT/config.json\n",
      "2019-09-23 14:37:07 - Model config {\n",
      "  \"attention_probs_dropout_prob\": 0.1,\n",
      "  \"directionality\": \"bidi\",\n",
      "  \"finetuning_task\": null,\n",
      "  \"hidden_act\": \"gelu\",\n",
      "  \"hidden_dropout_prob\": 0.1,\n",
      "  \"hidden_size\": 768,\n",
      "  \"initializer_range\": 0.02,\n",
      "  \"intermediate_size\": 3072,\n",
      "  \"layer_norm_eps\": 1e-12,\n",
      "  \"max_position_embeddings\": 512,\n",
      "  \"num_attention_heads\": 12,\n",
      "  \"num_hidden_layers\": 12,\n",
      "  \"num_labels\": 2,\n",
      "  \"output_attentions\": false,\n",
      "  \"output_hidden_states\": false,\n",
      "  \"pooler_fc_size\": 768,\n",
      "  \"pooler_num_attention_heads\": 12,\n",
      "  \"pooler_num_fc_layers\": 3,\n",
      "  \"pooler_size_per_head\": 128,\n",
      "  \"pooler_type\": \"first_token_transform\",\n",
      "  \"torchscript\": false,\n",
      "  \"type_vocab_size\": 2,\n",
      "  \"vocab_size\": 119547\n",
      "}\n",
      "\n",
      "2019-09-23 14:37:07 - loading weights file output/training_nli_bert-2019-09-22_21-50-05/0_BERT/pytorch_model.bin\n",
      "2019-09-23 14:37:09 - Model name 'output/training_nli_bert-2019-09-22_21-50-05/0_BERT' not found in model shortcut name list (bert-base-uncased, bert-large-uncased, bert-base-cased, bert-large-cased, bert-base-multilingual-uncased, bert-base-multilingual-cased, bert-base-chinese, bert-base-german-cased, bert-large-uncased-whole-word-masking, bert-large-cased-whole-word-masking, bert-large-uncased-whole-word-masking-finetuned-squad, bert-large-cased-whole-word-masking-finetuned-squad, bert-base-cased-finetuned-mrpc). Assuming 'output/training_nli_bert-2019-09-22_21-50-05/0_BERT' is a path or url to a directory containing tokenizer files.\n",
      "2019-09-23 14:37:09 - loading file output/training_nli_bert-2019-09-22_21-50-05/0_BERT/vocab.txt\n",
      "2019-09-23 14:37:09 - loading file output/training_nli_bert-2019-09-22_21-50-05/0_BERT/added_tokens.json\n",
      "2019-09-23 14:37:09 - loading file output/training_nli_bert-2019-09-22_21-50-05/0_BERT/special_tokens_map.json\n",
      "2019-09-23 14:37:09 - Use pytorch device: cuda\n"
     ]
    },
    {
     "name": "stderr",
     "output_type": "stream",
     "text": [
      "Convert dataset: 100%|██████████| 1379/1379 [00:00<00:00, 3732.76it/s]\n",
      "Convert Evaluating:   3%|▎         | 3/87 [00:00<00:03, 27.20it/s]"
     ]
    },
    {
     "name": "stdout",
     "output_type": "stream",
     "text": [
      "2019-09-23 14:37:10 - Num sentences: 1379\n",
      "2019-09-23 14:37:10 - Sentences 0 longer than max_seqence_length: 0\n",
      "2019-09-23 14:37:10 - Sentences 1 longer than max_seqence_length: 0\n",
      "2019-09-23 14:37:10 - Evaluation the model on  dataset:\n"
     ]
    },
    {
     "name": "stderr",
     "output_type": "stream",
     "text": [
      "Convert Evaluating: 100%|██████████| 87/87 [00:04<00:00, 20.02it/s]"
     ]
    },
    {
     "name": "stdout",
     "output_type": "stream",
     "text": [
      "2019-09-23 14:37:14 - Cosine-Similarity :\tPearson: 0.6995\tSpearman: 0.7248\n",
      "2019-09-23 14:37:14 - Manhattan-Distance:\tPearson: 0.7311\tSpearman: 0.7258\n",
      "2019-09-23 14:37:14 - Euclidean-Distance:\tPearson: 0.7307\tSpearman: 0.7259\n",
      "2019-09-23 14:37:14 - Dot-Product-Similarity:\tPearson: 0.6929\tSpearman: 0.7024\n"
     ]
    },
    {
     "name": "stderr",
     "output_type": "stream",
     "text": [
      "\n"
     ]
    },
    {
     "data": {
      "text/plain": [
       "0.7259206832532674"
      ]
     },
     "execution_count": 11,
     "metadata": {},
     "output_type": "execute_result"
    }
   ],
   "source": [
    "##############################################################################\n",
    "#\n",
    "# Load the stored model and evaluate its performance on STS benchmark dataset\n",
    "#\n",
    "##############################################################################\n",
    "\n",
    "model = SentenceTransformer(model_save_path)\n",
    "test_data = SentencesDataset(examples=sts_reader.get_examples(\"sts-test.csv\"), model=model)\n",
    "test_dataloader = DataLoader(test_data, shuffle=False, batch_size=batch_size)\n",
    "evaluator = EmbeddingSimilarityEvaluator(test_dataloader)\n",
    "\n",
    "model.evaluate(evaluator)"
   ]
  },
  {
   "cell_type": "markdown",
   "metadata": {},
   "source": [
    "## Tatoeba"
   ]
  },
  {
   "cell_type": "code",
   "execution_count": 15,
   "metadata": {},
   "outputs": [],
   "source": [
    "from pathlib import Path\n",
    "from sentence_transformers.readers.InputExample import InputExample"
   ]
  },
  {
   "cell_type": "code",
   "execution_count": 26,
   "metadata": {},
   "outputs": [],
   "source": [
    "class TatoebaReader:\n",
    "    \"\"\"Reads in a plain text file, in which every line contains one \n",
    "    sentence.\"\"\"\n",
    "    def __init__(self, file_path: Path):\n",
    "        self.file_path = file_path\n",
    "\n",
    "    def get_examples(self):\n",
    "        examples = []        \n",
    "        with open(self.file_path) as fin:\n",
    "            for i, line in enumerate(fin.readlines()):\n",
    "                examples.append(InputExample(guid=i, texts=[line], label=0))                \n",
    "        return examples"
   ]
  },
  {
   "cell_type": "code",
   "execution_count": 33,
   "metadata": {},
   "outputs": [
    {
     "name": "stderr",
     "output_type": "stream",
     "text": [
      "Convert dataset: 100%|██████████| 1000/1000 [00:00<00:00, 9511.28it/s]\n",
      "Convert dataset: 100%|██████████| 1000/1000 [00:00<00:00, 14028.43it/s]"
     ]
    },
    {
     "name": "stdout",
     "output_type": "stream",
     "text": [
      "2019-09-23 16:53:13 - Num sentences: 1000\n",
      "2019-09-23 16:53:13 - Sentences 0 longer than max_seqence_length: 0\n",
      "2019-09-23 16:53:13 - Num sentences: 1000\n",
      "2019-09-23 16:53:13 - Sentences 0 longer than max_seqence_length: 0\n"
     ]
    },
    {
     "name": "stderr",
     "output_type": "stream",
     "text": [
      "\n"
     ]
    }
   ],
   "source": [
    "TATOEBA_PATH = Path(\"../data/tatoeba/v1/\")\n",
    "\n",
    "tatoeba_engcmn_eng = TatoebaReader(TATOEBA_PATH / \"tatoeba.cmn-eng.eng\")\n",
    "ds = SentencesDataset(tatoeba_engchm_eng.get_examples(), model=model)\n",
    "tatoeba_engcmn_eng_loader = DataLoader(ds, shuffle=False, batch_size=32, collate_fn=model.smart_batching_collate)\n",
    "\n",
    "tatoeba_engcmn_cmn = TatoebaReader(TATOEBA_PATH / \"tatoeba.cmn-eng.cmn\")\n",
    "ds = SentencesDataset(tatoeba_engcmn_cmn.get_examples(), model=model)\n",
    "tatoeba_engcmn_cmn_loader = DataLoader(ds, shuffle=False, batch_size=32, collate_fn=model.smart_batching_collate)"
   ]
  },
  {
   "cell_type": "code",
   "execution_count": 75,
   "metadata": {},
   "outputs": [
    {
     "name": "stdout",
     "output_type": "stream",
     "text": [
      "CPU times: user 2.7 s, sys: 648 ms, total: 3.35 s\n",
      "Wall time: 3.35 s\n"
     ]
    }
   ],
   "source": [
    "%%time\n",
    "cmn_embeddings, eng_embeddings = [], []\n",
    "with torch.no_grad():\n",
    "    for batch in tatoeba_engcmn_cmn_loader:\n",
    "        cmn_embeddings.append(model(\n",
    "            batch_to_device(batch, \"cuda\")[0][0]\n",
    "        )['sentence_embedding'])\n",
    "    for batch in tatoeba_engcmn_eng_loader:\n",
    "        eng_embeddings.append(model(\n",
    "            batch_to_device(batch, \"cuda\")[0][0]\n",
    "        )['sentence_embedding'])\n",
    "cmn_embeddings = torch.cat(cmn_embeddings).cpu().numpy()\n",
    "eng_embeddings = torch.cat(eng_embeddings).cpu().numpy()"
   ]
  },
  {
   "cell_type": "code",
   "execution_count": 76,
   "metadata": {},
   "outputs": [
    {
     "data": {
      "text/plain": [
       "1000"
      ]
     },
     "execution_count": 76,
     "metadata": {},
     "output_type": "execute_result"
    }
   ],
   "source": [
    "len(eng_embeddings)"
   ]
  },
  {
   "cell_type": "code",
   "execution_count": 79,
   "metadata": {},
   "outputs": [],
   "source": [
    "cmn_idx = faiss.IndexFlatL2(cmn_embeddings.shape[1])\n",
    "faiss.normalize_L2(cmn_embeddings)\n",
    "cmn_idx.add(cmn_embeddings)\n",
    "eng_idx = faiss.IndexFlatL2(eng_embeddings.shape[1])\n",
    "faiss.normalize_L2(eng_embeddings)\n",
    "eng_idx.add(eng_embeddings)"
   ]
  },
  {
   "cell_type": "code",
   "execution_count": 82,
   "metadata": {},
   "outputs": [],
   "source": [
    "_, eng_to_cmn = cmn_idx.search(x=eng_embeddings, k=1)\n",
    "_, cmn_to_eng = eng_idx.search(x=cmn_embeddings, k=1)"
   ]
  },
  {
   "cell_type": "code",
   "execution_count": 88,
   "metadata": {},
   "outputs": [
    {
     "data": {
      "text/plain": [
       "597"
      ]
     },
     "execution_count": 88,
     "metadata": {},
     "output_type": "execute_result"
    }
   ],
   "source": [
    "np.sum(eng_to_cmn[:, 0] == np.arange(1000))"
   ]
  },
  {
   "cell_type": "code",
   "execution_count": 89,
   "metadata": {},
   "outputs": [
    {
     "data": {
      "text/plain": [
       "644"
      ]
     },
     "execution_count": 89,
     "metadata": {},
     "output_type": "execute_result"
    }
   ],
   "source": [
    "np.sum(cmn_to_eng[:, 0] == np.arange(1000))"
   ]
  },
  {
   "cell_type": "markdown",
   "metadata": {},
   "source": [
    "## Baseline"
   ]
  },
  {
   "cell_type": "code",
   "execution_count": 91,
   "metadata": {},
   "outputs": [
    {
     "name": "stdout",
     "output_type": "stream",
     "text": [
      "2019-09-23 17:16:32 - loading configuration file ../models/bert-base-multilingual-cased/config.json\n",
      "2019-09-23 17:16:32 - Model config {\n",
      "  \"attention_probs_dropout_prob\": 0.1,\n",
      "  \"directionality\": \"bidi\",\n",
      "  \"finetuning_task\": null,\n",
      "  \"hidden_act\": \"gelu\",\n",
      "  \"hidden_dropout_prob\": 0.1,\n",
      "  \"hidden_size\": 768,\n",
      "  \"initializer_range\": 0.02,\n",
      "  \"intermediate_size\": 3072,\n",
      "  \"layer_norm_eps\": 1e-12,\n",
      "  \"max_position_embeddings\": 512,\n",
      "  \"num_attention_heads\": 12,\n",
      "  \"num_hidden_layers\": 12,\n",
      "  \"num_labels\": 2,\n",
      "  \"output_attentions\": false,\n",
      "  \"output_hidden_states\": false,\n",
      "  \"pooler_fc_size\": 768,\n",
      "  \"pooler_num_attention_heads\": 12,\n",
      "  \"pooler_num_fc_layers\": 3,\n",
      "  \"pooler_size_per_head\": 128,\n",
      "  \"pooler_type\": \"first_token_transform\",\n",
      "  \"torchscript\": false,\n",
      "  \"type_vocab_size\": 2,\n",
      "  \"vocab_size\": 119547\n",
      "}\n",
      "\n",
      "2019-09-23 17:16:32 - loading weights file ../models/bert-base-multilingual-cased/pytorch_model.bin\n",
      "2019-09-23 17:16:35 - Model name '../models/bert-base-multilingual-cased/' not found in model shortcut name list (bert-base-uncased, bert-large-uncased, bert-base-cased, bert-large-cased, bert-base-multilingual-uncased, bert-base-multilingual-cased, bert-base-chinese, bert-base-german-cased, bert-large-uncased-whole-word-masking, bert-large-cased-whole-word-masking, bert-large-uncased-whole-word-masking-finetuned-squad, bert-large-cased-whole-word-masking-finetuned-squad, bert-base-cased-finetuned-mrpc). Assuming '../models/bert-base-multilingual-cased/' is a path or url to a directory containing tokenizer files.\n",
      "2019-09-23 17:16:35 - Didn't find file ../models/bert-base-multilingual-cased/added_tokens.json. We won't load it.\n",
      "2019-09-23 17:16:35 - Didn't find file ../models/bert-base-multilingual-cased/special_tokens_map.json. We won't load it.\n",
      "2019-09-23 17:16:35 - loading file ../models/bert-base-multilingual-cased/vocab.txt\n",
      "2019-09-23 17:16:35 - loading file None\n",
      "2019-09-23 17:16:35 - loading file None\n",
      "2019-09-23 17:16:35 - Use pytorch device: cuda\n"
     ]
    }
   ],
   "source": [
    "word_embedding_model = models.BERT('../models/bert-base-multilingual-cased/')\n",
    "# Apply mean pooling to get one fixed sized sentence vector\n",
    "pooling_model = models.Pooling(word_embedding_model.get_word_embedding_dimension(),\n",
    "                               pooling_mode_mean_tokens=True,\n",
    "                               pooling_mode_cls_token=False,\n",
    "                               pooling_mode_max_tokens=False)\n",
    "model = SentenceTransformer(modules=[word_embedding_model, pooling_model])"
   ]
  },
  {
   "cell_type": "code",
   "execution_count": 92,
   "metadata": {},
   "outputs": [
    {
     "name": "stdout",
     "output_type": "stream",
     "text": [
      "CPU times: user 2.65 s, sys: 668 ms, total: 3.32 s\n",
      "Wall time: 3.32 s\n"
     ]
    }
   ],
   "source": [
    "%%time\n",
    "cmn_embeddings, eng_embeddings = [], []\n",
    "with torch.no_grad():\n",
    "    for batch in tatoeba_engcmn_cmn_loader:\n",
    "        cmn_embeddings.append(model(\n",
    "            batch_to_device(batch, \"cuda\")[0][0]\n",
    "        )['sentence_embedding'])\n",
    "    for batch in tatoeba_engcmn_eng_loader:\n",
    "        eng_embeddings.append(model(\n",
    "            batch_to_device(batch, \"cuda\")[0][0]\n",
    "        )['sentence_embedding'])\n",
    "cmn_embeddings = torch.cat(cmn_embeddings).cpu().numpy()\n",
    "eng_embeddings = torch.cat(eng_embeddings).cpu().numpy()"
   ]
  },
  {
   "cell_type": "code",
   "execution_count": 93,
   "metadata": {},
   "outputs": [],
   "source": [
    "cmn_idx = faiss.IndexFlatL2(cmn_embeddings.shape[1])\n",
    "faiss.normalize_L2(cmn_embeddings)\n",
    "cmn_idx.add(cmn_embeddings)\n",
    "eng_idx = faiss.IndexFlatL2(eng_embeddings.shape[1])\n",
    "faiss.normalize_L2(eng_embeddings)\n",
    "eng_idx.add(eng_embeddings)\n",
    "_, eng_to_cmn = cmn_idx.search(x=eng_embeddings, k=1)\n",
    "_, cmn_to_eng = eng_idx.search(x=cmn_embeddings, k=1)"
   ]
  },
  {
   "cell_type": "code",
   "execution_count": 94,
   "metadata": {},
   "outputs": [
    {
     "data": {
      "text/plain": [
       "522"
      ]
     },
     "execution_count": 94,
     "metadata": {},
     "output_type": "execute_result"
    }
   ],
   "source": [
    "np.sum(eng_to_cmn[:, 0] == np.arange(1000))"
   ]
  },
  {
   "cell_type": "code",
   "execution_count": 95,
   "metadata": {},
   "outputs": [
    {
     "data": {
      "text/plain": [
       "510"
      ]
     },
     "execution_count": 95,
     "metadata": {},
     "output_type": "execute_result"
    }
   ],
   "source": [
    "np.sum(cmn_to_eng[:, 0] == np.arange(1000))"
   ]
  }
 ],
 "metadata": {
  "kernelspec": {
   "display_name": "Python 3",
   "language": "python",
   "name": "python3"
  },
  "language_info": {
   "codemirror_mode": {
    "name": "ipython",
    "version": 3
   },
   "file_extension": ".py",
   "mimetype": "text/x-python",
   "name": "python",
   "nbconvert_exporter": "python",
   "pygments_lexer": "ipython3",
   "version": "3.7.0"
  }
 },
 "nbformat": 4,
 "nbformat_minor": 2
}
